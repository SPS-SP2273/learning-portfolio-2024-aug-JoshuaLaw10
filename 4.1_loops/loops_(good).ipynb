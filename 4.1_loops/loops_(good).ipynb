{
 "cells": [
  {
   "attachments": {},
   "cell_type": "markdown",
   "id": "123456",
   "metadata": {},
   "source": [
    "<div style=\"text-align:left;font-size:2em\"><span style=\"font-weight:bolder;font-size:1.25em\">SP2273 | Learning Portfolio</span><br><br><span style=\"font-weight:bold;color:darkred\">Loops (Good)</span></div>"
   ]
  },
  {
   "attachments": {},
   "cell_type": "markdown",
   "id": "549f2f98",
   "metadata": {},
   "source": [
    "# What to expect in this chapter"
   ]
  },
  {
   "attachments": {},
   "cell_type": "markdown",
   "id": "c4acc764",
   "metadata": {},
   "source": [
    "# 1 Interrupting the flow"
   ]
  },
  {
   "cell_type": "code",
   "execution_count": null,
   "id": "79e2a430-0a07-41b7-981c-d728531bc739",
   "metadata": {},
   "outputs": [],
   "source": [
    "for power in range(2,5+1):\n",
    "    print(power)"
   ]
  },
  {
   "cell_type": "code",
   "execution_count": 6,
   "id": "0a929d14-fe22-4a23-899d-8ce136ac8ae5",
   "metadata": {},
   "outputs": [
    {
     "name": "stdout",
     "output_type": "stream",
     "text": [
      "0 1\n",
      "1 10\n",
      "2 100\n",
      "3 1000\n"
     ]
    }
   ],
   "source": [
    "for power in range(5):\n",
    "    number = 10**power\n",
    "    if number > 5000:\n",
    "        break\n",
    "    print(power,number)"
   ]
  },
  {
   "cell_type": "code",
   "execution_count": 8,
   "id": "4f3aa240-2d63-4805-ae6c-4a42d1cfdf61",
   "metadata": {},
   "outputs": [
    {
     "name": "stdout",
     "output_type": "stream",
     "text": [
      "0\n",
      "1\n",
      "2\n",
      "4\n"
     ]
    }
   ],
   "source": [
    "for power in range(5):\n",
    "    if power == 3:\n",
    "        continue        # Don't proceed further\n",
    "                        # IN THE CURRENT LOOP\n",
    "                        # if i == 3\n",
    "    number = 10**power\n",
    "    print(power, number)"
   ]
  },
  {
   "cell_type": "code",
   "execution_count": 9,
   "id": "f06d5f1d-4d42-450f-a68c-7a21f44d955f",
   "metadata": {},
   "outputs": [
    {
     "name": "stdout",
     "output_type": "stream",
     "text": [
      "1\n",
      "3\n",
      "5\n",
      "7\n",
      "9\n"
     ]
    }
   ],
   "source": [
    "for number in range(10):\n",
    "    # Don't proceed if the remainder is zero\n",
    "    # I.e. if the number is even\n",
    "    if number % 2 == 0:\n",
    "        continue\n",
    "    print(number)"
   ]
  },
  {
   "cell_type": "code",
   "execution_count": 10,
   "id": "55104a2b-c009-4c25-9d81-4b586c13758a",
   "metadata": {},
   "outputs": [
    {
     "name": "stdout",
     "output_type": "stream",
     "text": [
      "0\n",
      "1\n",
      "2\n",
      "3\n",
      "4\n"
     ]
    }
   ],
   "source": [
    "number=0\n",
    "\n",
    "while True:\n",
    "    print(number)\n",
    "    number += 1\n",
    "    if number > 4: break"
   ]
  },
  {
   "cell_type": "code",
   "execution_count": 12,
   "id": "2ae1aa45-5863-4127-a9b4-3a0c213e2165",
   "metadata": {},
   "outputs": [
    {
     "name": "stdout",
     "output_type": "stream",
     "text": [
      "ha\n",
      "haha\n",
      "hahaha\n",
      "hahahaha\n",
      "hahahahaha\n",
      "hahahahahaha\n",
      "hahahahahahaha\n",
      "hahahahahahahaha\n",
      "hahahahahahahahaha\n",
      "hahahahahahahahahaha\n",
      "hahahahahahahahahahaha\n",
      "hahahahahahahahahahahaha\n",
      "hahahahahahahahahahahahaha\n",
      "hahahahahahahahahahahahahaha\n",
      "hahahahahahahahahahahahahahaha\n",
      "hahahahahahahahahahahahahahahaha\n",
      "hahahahahahahahahahahahahahahahaha\n",
      "hahahahahahahahahahahahahahahahahaha\n",
      "hahahahahahahahahahahahahahahahahahaha\n",
      "hahahahahahahahahahahahahahahahahahahaha\n",
      "hahahahahahahahahahahahahahahahahahahahaha\n",
      "hahahahahahahahahahahahahahahahahahahahahaha\n",
      "hahahahahahahahahahahahahahahahahahahahahahaha\n",
      "hahahahahahahahahahahahahahahahahahahahahahahaha\n",
      "hahahahahahahahahahahahahahahahahahahahahahahahaha\n",
      "hahahahahahahahahahahahahahahahahahahahahahahahahaha\n",
      "hahahahahahahahahahahahahahahahahahahahahahahahahahaha\n",
      "hahahahahahahahahahahahahahahahahahahahahahahahahahahaha\n",
      "hahahahahahahahahahahahahahahahahahahahahahahahahahahahaha\n",
      "hahahahahahahahahahahahahahahahahahahahahahahahahahahahahaha\n",
      "hahahahahahahahahahahahahahahahahahahahahahahahahahahahahahaha\n",
      "hahahahahahahahahahahahahahahahahahahahahahahahahahahahahahahaha\n",
      "hahahahahahahahahahahahahahahahahahahahahahahahahahahahahahahahaha\n",
      "hahahahahahahahahahahahahahahahahahahahahahahahahahahahahahahahahaha\n",
      "hahahahahahahahahahahahahahahahahahahahahahahahahahahahahahahahahahaha\n",
      "hahahahahahahahahahahahahahahahahahahahahahahahahahahahahahahahahahahaha\n",
      "hahahahahahahahahahahahahahahahahahahahahahahahahahahahahahahahahahahahaha\n",
      "hahahahahahahahahahahahahahahahahahahahahahahahahahahahahahahahahahahahahaha\n",
      "hahahahahahahahahahahahahahahahahahahahahahahahahahahahahahahahahahahahahahaha\n",
      "hahahahahahahahahahahahahahahahahahahahahahahahahahahahahahahahahahahahahahahaha\n",
      "hahahahahahahahahahahahahahahahahahahahahahahahahahahahahahahahahahahahahahahahaha\n",
      "hahahahahahahahahahahahahahahahahahahahahahahahahahahahahahahahahahahahahahahahahaha\n",
      "hahahahahahahahahahahahahahahahahahahahahahahahahahahahahahahahahahahahahahahahahahaha\n",
      "hahahahahahahahahahahahahahahahahahahahahahahahahahahahahahahahahahahahahahahahahahahaha\n",
      "hahahahahahahahahahahahahahahahahahahahahahahahahahahahahahahahahahahahahahahahahahahahaha\n",
      "hahahahahahahahahahahahahahahahahahahahahahahahahahahahahahahahahahahahahahahahahahahahahaha\n",
      "hahahahahahahahahahahahahahahahahahahahahahahahahahahahahahahahahahahahahahahahahahahahahahaha\n",
      "hahahahahahahahahahahahahahahahahahahahahahahahahahahahahahahahahahahahahahahahahahahahahahahaha\n",
      "hahahahahahahahahahahahahahahahahahahahahahahahahahahahahahahahahahahahahahahahahahahahahahahahaha\n",
      "hahahahahahahahahahahahahahahahahahahahahahahahahahahahahahahahahahahahahahahahahahahahahahahahahaha\n",
      "hahahahahahahahahahahahahahahahahahahahahahahahahahahahahahahahahahahahahahahahahahahahahahahahahahaha\n"
     ]
    }
   ],
   "source": [
    "hah = ''\n",
    "\n",
    "while True:\n",
    "    hah += 'ha'\n",
    "    print(hah)\n",
    "\n",
    "    if len(hah) > 100 :\n",
    "        break"
   ]
  },
  {
   "cell_type": "code",
   "execution_count": 13,
   "id": "276432f8-f9c0-432d-8496-9ae4e1da5446",
   "metadata": {},
   "outputs": [
    {
     "name": "stdout",
     "output_type": "stream",
     "text": [
      "ha\n",
      "haha\n",
      "hahaha\n",
      "hahahaha\n",
      "hahahahaha\n",
      "hahahahahaha\n",
      "hahahahahahaha\n",
      "hahahahahahahaha\n",
      "hahahahahahahahaha\n",
      "hahahahahahahahahaha\n",
      "hahahahahahahahahahaha\n",
      "hahahahahahahahahahahaha\n",
      "hahahahahahahahahahahahaha\n",
      "hahahahahahahahahahahahahaha\n",
      "hahahahahahahahahahahahahahaha\n",
      "hahahahahahahahahahahahahahahaha\n",
      "hahahahahahahahahahahahahahahahaha\n",
      "hahahahahahahahahahahahahahahahahaha\n",
      "hahahahahahahahahahahahahahahahahahaha\n",
      "hahahahahahahahahahahahahahahahahahahaha\n",
      "hahahahahahahahahahahahahahahahahahahahaha\n",
      "hahahahahahahahahahahahahahahahahahahahahaha\n",
      "hahahahahahahahahahahahahahahahahahahahahahaha\n",
      "hahahahahahahahahahahahahahahahahahahahahahahaha\n",
      "hahahahahahahahahahahahahahahahahahahahahahahahaha\n",
      "hahahahahahahahahahahahahahahahahahahahahahahahahaha\n",
      "hahahahahahahahahahahahahahahahahahahahahahahahahahaha\n",
      "hahahahahahahahahahahahahahahahahahahahahahahahahahahaha\n",
      "hahahahahahahahahahahahahahahahahahahahahahahahahahahahaha\n",
      "hahahahahahahahahahahahahahahahahahahahahahahahahahahahahaha\n",
      "hahahahahahahahahahahahahahahahahahahahahahahahahahahahahahaha\n",
      "hahahahahahahahahahahahahahahahahahahahahahahahahahahahahahahaha\n",
      "hahahahahahahahahahahahahahahahahahahahahahahahahahahahahahahahaha\n",
      "hahahahahahahahahahahahahahahahahahahahahahahahahahahahahahahahahaha\n",
      "hahahahahahahahahahahahahahahahahahahahahahahahahahahahahahahahahahaha\n",
      "hahahahahahahahahahahahahahahahahahahahahahahahahahahahahahahahahahahaha\n",
      "hahahahahahahahahahahahahahahahahahahahahahahahahahahahahahahahahahahahaha\n",
      "hahahahahahahahahahahahahahahahahahahahahahahahahahahahahahahahahahahahahaha\n",
      "hahahahahahahahahahahahahahahahahahahahahahahahahahahahahahahahahahahahahahaha\n",
      "hahahahahahahahahahahahahahahahahahahahahahahahahahahahahahahahahahahahahahahaha\n",
      "hahahahahahahahahahahahahahahahahahahahahahahahahahahahahahahahahahahahahahahahaha\n",
      "hahahahahahahahahahahahahahahahahahahahahahahahahahahahahahahahahahahahahahahahahaha\n",
      "hahahahahahahahahahahahahahahahahahahahahahahahahahahahahahahahahahahahahahahahahahaha\n",
      "hahahahahahahahahahahahahahahahahahahahahahahahahahahahahahahahahahahahahahahahahahahaha\n",
      "hahahahahahahahahahahahahahahahahahahahahahahahahahahahahahahahahahahahahahahahahahahahaha\n",
      "hahahahahahahahahahahahahahahahahahahahahahahahahahahahahahahahahahahahahahahahahahahahahaha\n",
      "hahahahahahahahahahahahahahahahahahahahahahahahahahahahahahahahahahahahahahahahahahahahahahaha\n",
      "hahahahahahahahahahahahahahahahahahahahahahahahahahahahahahahahahahahahahahahahahahahahahahahaha\n",
      "hahahahahahahahahahahahahahahahahahahahahahahahahahahahahahahahahahahahahahahahahahahahahahahahaha\n",
      "hahahahahahahahahahahahahahahahahahahahahahahahahahahahahahahahahahahahahahahahahahahahahahahahahaha\n"
     ]
    }
   ],
   "source": [
    "hah = ''\n",
    "\n",
    "while len(hah) < 100 :\n",
    "    hah += 'ha'\n",
    "    print(hah)\n",
    "\n"
   ]
  },
  {
   "attachments": {},
   "cell_type": "markdown",
   "id": "d0cd293c",
   "metadata": {},
   "source": [
    "# 2 List comprehension!"
   ]
  },
  {
   "attachments": {},
   "cell_type": "markdown",
   "id": "a5526d65",
   "metadata": {},
   "source": [
    "## 2.1 Basic syntax"
   ]
  },
  {
   "cell_type": "code",
   "execution_count": 18,
   "id": "907d8a31-4a5d-443e-bfde-54e13db20ca1",
   "metadata": {},
   "outputs": [
    {
     "name": "stdout",
     "output_type": "stream",
     "text": [
      "0 1\n",
      "1 10\n",
      "2 100\n",
      "3 1000\n",
      "4 10000\n"
     ]
    },
    {
     "data": {
      "text/plain": [
       "[1, 10, 100, 1000, 10000]"
      ]
     },
     "execution_count": 18,
     "metadata": {},
     "output_type": "execute_result"
    }
   ],
   "source": [
    "my_numbers = []\n",
    "for power in range(5):\n",
    "    number = 10 ** power\n",
    "    my_numbers.append(number)\n",
    "\n",
    "    print(power, number)\n",
    "\n",
    "my_numbers\n"
   ]
  },
  {
   "cell_type": "code",
   "execution_count": 19,
   "id": "a0e28b04-e74a-4fbb-a988-c913f447c20b",
   "metadata": {},
   "outputs": [
    {
     "data": {
      "text/plain": [
       "[0, 1, 2, 3, 4]"
      ]
     },
     "execution_count": 19,
     "metadata": {},
     "output_type": "execute_result"
    }
   ],
   "source": [
    "[number for number in range(5)]"
   ]
  },
  {
   "cell_type": "code",
   "execution_count": null,
   "id": "65fc6566-c6cb-434f-a67e-c3767285178e",
   "metadata": {},
   "outputs": [],
   "source": [
    "[number**2 for number in range(5)]"
   ]
  },
  {
   "cell_type": "code",
   "execution_count": null,
   "id": "7597eaf3-ab1e-4503-8915-1253672b140e",
   "metadata": {},
   "outputs": [],
   "source": [
    "[number for number in range(10) if number % 2 ==0]"
   ]
  },
  {
   "cell_type": "code",
   "execution_count": 24,
   "id": "f1404244-9d41-4cf0-9f53-2b3ca302bd9c",
   "metadata": {},
   "outputs": [
    {
     "data": {
      "text/plain": [
       "[['Black Widow', 'Natasha Romanoff'],\n",
       " ['Iron Man', 'Tony Stark'],\n",
       " ['Doctor Strange', 'Stephen Strange']]"
      ]
     },
     "execution_count": 24,
     "metadata": {},
     "output_type": "execute_result"
    }
   ],
   "source": [
    "super_names = [\"Black Widow\", \"Iron Man\", \"Doctor Strange\"]\n",
    "real_names = [\"Natasha Romanoff\", \"Tony Stark\", \"Stephen Strange\"]\n",
    "\n",
    "\n",
    "[[super_names[index],real_names[index]] for index in range(3)]     # faster and cleaner"
   ]
  },
  {
   "attachments": {},
   "cell_type": "markdown",
   "id": "04cbd478",
   "metadata": {},
   "source": [
    "## 2.2 List comprehension with conditions"
   ]
  },
  {
   "attachments": {},
   "cell_type": "markdown",
   "id": "80a38be7",
   "metadata": {},
   "source": [
    "# 3 Other useful stuff"
   ]
  },
  {
   "cell_type": "code",
   "execution_count": 25,
   "id": "574142aa-9d90-4f3f-ad52-359dc37b947a",
   "metadata": {},
   "outputs": [
    {
     "name": "stdout",
     "output_type": "stream",
     "text": [
      "x = 1, y = 2, z = 3\n"
     ]
    }
   ],
   "source": [
    "x, y, z=[1, 2, 3]\n",
    "print(f'x = {x}, y = {y}, z = {z}')"
   ]
  },
  {
   "attachments": {},
   "cell_type": "markdown",
   "id": "4e4f217b",
   "metadata": {},
   "source": [
    "## 3.1 for with unpacking"
   ]
  },
  {
   "cell_type": "code",
   "execution_count": 26,
   "id": "4cad65af-8fbc-450e-9d0d-02eea86850a8",
   "metadata": {},
   "outputs": [
    {
     "name": "stdout",
     "output_type": "stream",
     "text": [
      "Natasha Romanoff is Marvel's Black Widow!\n",
      "Tony Stark is Marvel's Iron Man!\n",
      "Stephen Strange is Marvel's Doctor Strange!\n"
     ]
    }
   ],
   "source": [
    "py_superhero_info = [['Natasha Romanoff', 'Black Widow'],\n",
    "                     ['Tony Stark', 'Iron Man'],\n",
    "                     ['Stephen Strange', 'Doctor Strange']]\n",
    "\n",
    "for real_name, super_name in py_superhero_info:         # need to know how the data looks like\n",
    "    print(f\"{real_name} is Marvel's {super_name}!\")"
   ]
  },
  {
   "attachments": {},
   "cell_type": "markdown",
   "id": "a39cb1d6",
   "metadata": {},
   "source": [
    "## 3.2 for with zip()"
   ]
  },
  {
   "cell_type": "code",
   "execution_count": 31,
   "id": "7164a202-978a-47e9-b9db-b49470010570",
   "metadata": {},
   "outputs": [
    {
     "name": "stdout",
     "output_type": "stream",
     "text": [
      "('Black Widow', 'Natasha Romanoff')\n",
      "('Iron Man', 'Tony Stark')\n",
      "('Doctor Strange', 'Stephen Strange')\n"
     ]
    }
   ],
   "source": [
    "super_names = [\"Black Widow\", \"Iron Man\", \"Doctor Strange\"]\n",
    "real_names = [\"Natasha Romanoff\", \"Tony Stark\", \"Stephen Strange\"]\n",
    "\n",
    "for a in (zip(super_names,real_names)):\n",
    "    print(a)"
   ]
  },
  {
   "cell_type": "code",
   "execution_count": null,
   "id": "1531ba48-0856-4af1-860f-cfd581982df8",
   "metadata": {},
   "outputs": [],
   "source": [
    "for real_name, super_name in zip(real_names,super_names):\n",
    "    print(f\"{real_name} is Marvel's {super_name}!\")"
   ]
  },
  {
   "attachments": {},
   "cell_type": "markdown",
   "id": "2e368288",
   "metadata": {},
   "source": [
    "## 3.3 for with dictionaries"
   ]
  },
  {
   "attachments": {},
   "cell_type": "markdown",
   "id": "aa7e192f",
   "metadata": {},
   "source": [
    "## Footnotes"
   ]
  }
 ],
 "metadata": {
  "kernelspec": {
   "display_name": "Python 3 (ipykernel)",
   "language": "python",
   "name": "python3"
  },
  "language_info": {
   "codemirror_mode": {
    "name": "ipython",
    "version": 3
   },
   "file_extension": ".py",
   "mimetype": "text/x-python",
   "name": "python",
   "nbconvert_exporter": "python",
   "pygments_lexer": "ipython3",
   "version": "3.12.2"
  },
  "toc": {
   "base_numbering": 1,
   "nav_menu": {},
   "number_sections": true,
   "sideBar": true,
   "skip_h1_title": false,
   "title_cell": "Table of Contents",
   "title_sidebar": "Contents",
   "toc_cell": false,
   "toc_position": {},
   "toc_section_display": true,
   "toc_window_display": false
  },
  "vscode": {
   "interpreter": {
    "hash": "31f2aee4e71d21fbe5cf8b01ff0e069b9275f58929596ceb00d14d90e3e16cd6"
   }
  }
 },
 "nbformat": 4,
 "nbformat_minor": 5
}
