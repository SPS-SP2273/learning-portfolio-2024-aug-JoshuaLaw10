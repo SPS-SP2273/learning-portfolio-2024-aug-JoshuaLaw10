{
 "cells": [
  {
   "attachments": {},
   "cell_type": "markdown",
   "id": "123456",
   "metadata": {},
   "source": [
    "<div style=\"text-align:left;font-size:2em\"><span style=\"font-weight:bolder;font-size:1.25em\">SP2273 | Learning Portfolio</span><br><br><span style=\"font-weight:bold;color:darkred\">Loops (Need)</span></div>"
   ]
  },
  {
   "attachments": {},
   "cell_type": "markdown",
   "id": "040de0ee",
   "metadata": {},
   "source": [
    "# What to expect in this chapter"
   ]
  },
  {
   "attachments": {},
   "cell_type": "markdown",
   "id": "331578ac",
   "metadata": {},
   "source": [
    "# 1 The for iterator"
   ]
  },
  {
   "cell_type": "code",
   "execution_count": 1,
   "id": "8846ff06-1c9a-44a8-ab88-f087d603ae79",
   "metadata": {},
   "outputs": [],
   "source": [
    "real_names = [\"Natasha Romanoff\", \"Tony Stark\", \"Stephen Strange\"]"
   ]
  },
  {
   "cell_type": "code",
   "execution_count": null,
   "id": "a30e06e2-8951-409e-bb5f-b1d1778a923f",
   "metadata": {},
   "outputs": [],
   "source": [
    "name=real_names[0]\n",
    "print(f\"{name} is a Marvel superhero!\")\n",
    "\n",
    "name=real_names[1]\n",
    "print(f\"{name} is a Marvel superhero!\")\n",
    "\n",
    "name=real_names[2]\n",
    "print(f\"{name} is a Marvel superhero!\")"
   ]
  },
  {
   "cell_type": "code",
   "execution_count": null,
   "id": "f612fca4-0a4e-4a14-b715-8d09e2689835",
   "metadata": {},
   "outputs": [],
   "source": []
  },
  {
   "cell_type": "code",
   "execution_count": null,
   "id": "741d4467-622a-400c-a7b5-c8cf0c3df646",
   "metadata": {},
   "outputs": [],
   "source": []
  },
  {
   "attachments": {},
   "cell_type": "markdown",
   "id": "81bdbd73",
   "metadata": {},
   "source": [
    "## 1.1 for with a list"
   ]
  },
  {
   "cell_type": "code",
   "execution_count": 8,
   "id": "481c7e9c-b7f9-4e09-a477-850f2ac117e4",
   "metadata": {},
   "outputs": [
    {
     "name": "stdout",
     "output_type": "stream",
     "text": [
      "NATASHA ROMANOFF is a Marvel superhero!\n",
      "--------------------------------------------------\n",
      "TONY STARK is a Marvel superhero!\n",
      "--------------------------------------------------\n",
      "STEPHEN STRANGE is a Marvel superhero!\n",
      "--------------------------------------------------\n"
     ]
    }
   ],
   "source": [
    "for name in real_names:\n",
    "    print(f\"{name.upper()} is a Marvel superhero!\")\n",
    "    print(\"-\" * 50)"
   ]
  },
  {
   "attachments": {},
   "cell_type": "markdown",
   "id": "26d7b538",
   "metadata": {},
   "source": [
    "## 1.2 for with enumerate"
   ]
  },
  {
   "cell_type": "code",
   "execution_count": null,
   "id": "0c1d3bf2-5c7e-4f4a-b507-e117d52e0509",
   "metadata": {},
   "outputs": [],
   "source": [
    "super_names = [\"Black Widow\", \"Iron Man\", \"Doctor Strange\"]\n",
    "real_names = [\"Natasha Romanoff\", \"Tony Stark\", \"Stephen Strange\"]"
   ]
  },
  {
   "cell_type": "code",
   "execution_count": null,
   "id": "ac29353a-d499-4e77-b38d-3c12430f21ce",
   "metadata": {},
   "outputs": [],
   "source": [
    "count = 1\n",
    "for name in (real_names):\n",
    "    print(f'{count}: {name.upper()} is a Marvel superhero!')\n",
    "    count += 1 # this is what enumerate does automatically"
   ]
  },
  {
   "cell_type": "code",
   "execution_count": 16,
   "id": "5d63158c-fc63-46eb-aaff-b6f2988f580b",
   "metadata": {},
   "outputs": [
    {
     "name": "stdout",
     "output_type": "stream",
     "text": [
      "100: NATASHA ROMANOFF is a Marvel superhero!\n",
      "101: TONY STARK is a Marvel superhero!\n",
      "102: STEPHEN STRANGE is a Marvel superhero!\n"
     ]
    }
   ],
   "source": [
    "for count, name in enumerate(real_names,start = 100):          # use start = ___ to start the count at _____\n",
    "    \n",
    "    print(f'{count}: {name.upper()} is a Marvel superhero!')"
   ]
  },
  {
   "cell_type": "code",
   "execution_count": 15,
   "id": "5ca6006c-6183-400d-b3a1-b04ec8581431",
   "metadata": {},
   "outputs": [
    {
     "name": "stdout",
     "output_type": "stream",
     "text": [
      "Natasha Romanoff ---> Black Widow\n",
      "Tony Stark ---> Iron Man\n",
      "Stephen Strange ---> Doctor Strange\n"
     ]
    }
   ],
   "source": [
    "super_names = [\"Black Widow\", \"Iron Man\", \"Doctor Strange\"]\n",
    "real_names = [\"Natasha Romanoff\", \"Tony Stark\", \"Stephen Strange\"]\n",
    "\n",
    "for index, real_name in enumerate(real_names):\n",
    "    print(real_name,'--->',super_names[index])"
   ]
  },
  {
   "cell_type": "code",
   "execution_count": null,
   "id": "2c884402-4c4c-44e6-b78f-fa3bde80bee2",
   "metadata": {},
   "outputs": [],
   "source": []
  },
  {
   "attachments": {},
   "cell_type": "markdown",
   "id": "ab161789",
   "metadata": {},
   "source": [
    "## 1.3 for with range"
   ]
  },
  {
   "cell_type": "code",
   "execution_count": 17,
   "id": "c4b14bdd-ad41-4f16-9842-d40b616a10b5",
   "metadata": {},
   "outputs": [
    {
     "name": "stdout",
     "output_type": "stream",
     "text": [
      "Natasha Romanoff ---> Black Widow\n",
      "Tony Stark ---> Iron Man\n",
      "Stephen Strange ---> Doctor Strange\n"
     ]
    }
   ],
   "source": [
    "for index in [0,1,2]:\n",
    "    print(real_names[index],'--->',super_names[index])"
   ]
  },
  {
   "cell_type": "code",
   "execution_count": 22,
   "id": "66f17790-18fa-49d1-8ba6-ec8356e56ba8",
   "metadata": {},
   "outputs": [
    {
     "data": {
      "text/plain": [
       "[0, 1, 2]"
      ]
     },
     "execution_count": 22,
     "metadata": {},
     "output_type": "execute_result"
    }
   ],
   "source": [
    "list(range(3))"
   ]
  },
  {
   "cell_type": "code",
   "execution_count": 23,
   "id": "b7a6365f-55ef-417b-9277-cfcf4cbec031",
   "metadata": {},
   "outputs": [
    {
     "data": {
      "text/plain": [
       "range(0, 3)"
      ]
     },
     "execution_count": 23,
     "metadata": {},
     "output_type": "execute_result"
    }
   ],
   "source": [
    "range(3)"
   ]
  },
  {
   "attachments": {},
   "cell_type": "markdown",
   "id": "feb04994",
   "metadata": {},
   "source": [
    "# 2 while"
   ]
  },
  {
   "cell_type": "code",
   "execution_count": 24,
   "id": "8ffb1240-e362-4a3d-ad10-78e39cdacef5",
   "metadata": {},
   "outputs": [
    {
     "name": "stdout",
     "output_type": "stream",
     "text": [
      "0\n",
      "1\n",
      "2\n",
      "3\n",
      "4\n"
     ]
    }
   ],
   "source": [
    "number = 0\n",
    "\n",
    "while number < 5:\n",
    "    print (number)\n",
    "    number += 1"
   ]
  }
 ],
 "metadata": {
  "kernelspec": {
   "display_name": "Python 3 (ipykernel)",
   "language": "python",
   "name": "python3"
  },
  "language_info": {
   "codemirror_mode": {
    "name": "ipython",
    "version": 3
   },
   "file_extension": ".py",
   "mimetype": "text/x-python",
   "name": "python",
   "nbconvert_exporter": "python",
   "pygments_lexer": "ipython3",
   "version": "3.12.2"
  },
  "toc": {
   "base_numbering": 1,
   "nav_menu": {},
   "number_sections": true,
   "sideBar": true,
   "skip_h1_title": false,
   "title_cell": "Table of Contents",
   "title_sidebar": "Contents",
   "toc_cell": false,
   "toc_position": {},
   "toc_section_display": true,
   "toc_window_display": false
  },
  "vscode": {
   "interpreter": {
    "hash": "31f2aee4e71d21fbe5cf8b01ff0e069b9275f58929596ceb00d14d90e3e16cd6"
   }
  }
 },
 "nbformat": 4,
 "nbformat_minor": 5
}
