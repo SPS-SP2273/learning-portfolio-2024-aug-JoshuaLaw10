{
 "cells": [
  {
   "attachments": {},
   "cell_type": "markdown",
   "id": "123456",
   "metadata": {},
   "source": [
    "<div style=\"text-align:left;font-size:2em\"><span style=\"font-weight:bolder;font-size:1.25em\">SP2273 | Learning Portfolio</span><br><br><span style=\"font-weight:bold;color:darkred\">Storing Data (Good) Exercises</span></div>"
   ]
  },
  {
   "cell_type": "markdown",
   "id": "fe244ee3-c31b-4082-a0f3-f2794f37ae9d",
   "metadata": {},
   "source": [
    "## Exercise 1"
   ]
  },
  {
   "cell_type": "markdown",
   "id": "0adfcf8e-7dfc-4cde-b64d-ebda645ad14e",
   "metadata": {},
   "source": [
    "|Term|Brief description|\n",
    "|:-|:-|\n",
    "|Subsetting|*Subsetting means to ‘select’*|\n",
    "|Indexing|It is to choose 1 element of a list|\n",
    "|Slicing|It is to choose some range of the elements|\n",
    "|Masking|*The answer to my question (np_array > 5) is in the form of a ‘Yes’/‘No’ or True/False format. I can use this True/False format to ask NumPy to show me only those that are True*|"
   ]
  },
  {
   "cell_type": "markdown",
   "id": "cf978738-37a5-4e16-a4bc-b25a48cbd6f2",
   "metadata": {},
   "source": [
    "## Exercise 2"
   ]
  },
  {
   "cell_type": "code",
   "execution_count": 24,
   "id": "a25b4135-8553-4ade-906a-0b9b7116e9a3",
   "metadata": {},
   "outputs": [
    {
     "name": "stdout",
     "output_type": "stream",
     "text": [
      "['A' 'C' 'E' 'G' 'I']\n"
     ]
    }
   ],
   "source": [
    "import numpy as np\n",
    "\n",
    "np_array_2d = np.array([[1, \"A\"], [3, \"C\"], [2, \"B\"], [4, \"D\"],\n",
    "                        [5, \"E\"], [7, \"G\"], [6, \"F\"], [8, \"H\"],\n",
    "                        [10, \"J\"], [9, \"I\"]])\n",
    "\n",
    "my_mask = np_array_2d[:,0]       #get array of the 0th index of all elements \n",
    "\n",
    "my_mask = my_mask.astype(int)    #convert all elements into int\n",
    "\n",
    "my_mask = my_mask % 2            #find it they are even or odd\n",
    "\n",
    "my_mask = my_mask > 0            #if is 0, it is even. if it is 1, it is odd\n",
    "\n",
    "new_array = np_array_2d[my_mask]\n",
    "\n",
    "print(new_array[:, 1])\n",
    "\n"
   ]
  },
  {
   "cell_type": "markdown",
   "id": "8a867452-789a-4cc1-a7e3-61a23d2edff5",
   "metadata": {},
   "source": [
    "## Exercise 3"
   ]
  },
  {
   "cell_type": "code",
   "execution_count": 96,
   "id": "cba63736-31c0-44f1-9def-8d472e4a7249",
   "metadata": {},
   "outputs": [
    {
     "name": "stdout",
     "output_type": "stream",
     "text": [
      "[[ 1  0  1 -1 -1]\n",
      " [ 1 -1  1 -1 -1]\n",
      " [ 1 -1 -1  1 -1]\n",
      " [-1  1  1 -1 -1]\n",
      " [ 1 -1  1 -1  1]]\n"
     ]
    }
   ],
   "source": [
    "import numpy as np\n",
    "\n",
    "\n",
    "np_array = np.array([[66, 50, 57, -1, -1],\n",
    "            [92, -1, 88, -1, -1],\n",
    "            [75, -1, -1, 76, -1],\n",
    "            [-1, 51, 87, -1, -1],\n",
    "            [71, -1, 67, -1, 69]])\n",
    "\n",
    "\n",
    "my_mask1 = np_array > 50 \n",
    "my_mask2 = np_array < 50\n",
    "my_mask3 = ( np_array == 50 )\n",
    "\n",
    "np_array[my_mask1] = 1\n",
    "np_array[my_mask2] = -1\n",
    "np_array[my_mask3] = 0\n",
    "\n",
    "\n",
    "print(np_array)    "
   ]
  },
  {
   "cell_type": "code",
   "execution_count": null,
   "id": "0d320685-2e42-41b7-b921-0ccb2c331a39",
   "metadata": {},
   "outputs": [],
   "source": []
  }
 ],
 "metadata": {
  "kernelspec": {
   "display_name": "Python 3 (ipykernel)",
   "language": "python",
   "name": "python3"
  },
  "language_info": {
   "codemirror_mode": {
    "name": "ipython",
    "version": 3
   },
   "file_extension": ".py",
   "mimetype": "text/x-python",
   "name": "python",
   "nbconvert_exporter": "python",
   "pygments_lexer": "ipython3",
   "version": "3.12.2"
  },
  "toc": {
   "base_numbering": 1,
   "nav_menu": {},
   "number_sections": true,
   "sideBar": true,
   "skip_h1_title": false,
   "title_cell": "Table of Contents",
   "title_sidebar": "Contents",
   "toc_cell": false,
   "toc_position": {},
   "toc_section_display": true,
   "toc_window_display": false
  },
  "vscode": {
   "interpreter": {
    "hash": "31f2aee4e71d21fbe5cf8b01ff0e069b9275f58929596ceb00d14d90e3e16cd6"
   }
  }
 },
 "nbformat": 4,
 "nbformat_minor": 5
}
