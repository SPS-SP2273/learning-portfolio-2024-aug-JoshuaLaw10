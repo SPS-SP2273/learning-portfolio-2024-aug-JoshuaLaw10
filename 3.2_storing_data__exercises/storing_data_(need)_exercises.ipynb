{
 "cells": [
  {
   "attachments": {},
   "cell_type": "markdown",
   "id": "123456",
   "metadata": {},
   "source": [
    "<div style=\"text-align:left;font-size:2em\"><span style=\"font-weight:bolder;font-size:1.25em\">SP2273 | Learning Portfolio</span><br><br><span style=\"font-weight:bold;color:darkred\">Storing Data (Need) Exercises</span></div>"
   ]
  },
  {
   "cell_type": "markdown",
   "id": "ebe64a36-55af-4cb4-b804-920f9f3fddd8",
   "metadata": {},
   "source": [
    "## Exercise 1"
   ]
  },
  {
   "cell_type": "markdown",
   "id": "26581049-d8ee-4904-a667-c74f121e6c3f",
   "metadata": {},
   "source": [
    "Two similarities between lists and arrays.\n",
    "\n",
    "|Similarities|Differences|\n",
    "|:---|:---|\n",
    "|Both stores elements|For arrays, all eleemnts must only be of a single data type, while for lists its element can different data types|\n",
    "|Their elements indexed starting from 0 or ending with -1|Math is done on each element in an array, while math is only be done on the whole list|"
   ]
  },
  {
   "cell_type": "markdown",
   "id": "735d558c-6e42-41f6-b3fe-fe19ec351f76",
   "metadata": {},
   "source": [
    "What is a dictionary?\n",
    "\n",
    "It stores elements as a key-value pair, where the input of a key return its corresponding value."
   ]
  },
  {
   "cell_type": "markdown",
   "id": "7e7960e0-ac1c-4367-9172-82f97d54cfc7",
   "metadata": {},
   "source": [
    "## Exercise 2"
   ]
  },
  {
   "cell_type": "code",
   "execution_count": 2,
   "id": "acfec4a3-1c67-4283-a4bc-141310fc5704",
   "metadata": {},
   "outputs": [
    {
     "name": "stdout",
     "output_type": "stream",
     "text": [
      "a1\n",
      "c3\n",
      "e5\n",
      "g7\n",
      "i9\n"
     ]
    }
   ],
   "source": [
    "py_list = [\"a1\", \"b2\", \"c3\", \"d4\", \"e5\", \"f6\", \"g7\", \"h8\", \"i9\", \"j10\"]\n",
    "\n",
    "# Prints 'a1'\n",
    "print(py_list[0])\n",
    "\n",
    "# Prints 'c3'\n",
    "print(py_list[2])\n",
    "\n",
    " # Prints 'e5'\n",
    "print(py_list[4])\n",
    "\n",
    "  # Prints 'g7'\n",
    "print(py_list[6])\n",
    "\n",
    " # Prints 'i9'\n",
    "print(py_list[8])  \n"
   ]
  },
  {
   "cell_type": "markdown",
   "id": "729f2220-6f92-4880-949b-73332c722e0d",
   "metadata": {},
   "source": [
    "## Exercise 3"
   ]
  },
  {
   "cell_type": "code",
   "execution_count": 6,
   "id": "dd6ea237-bf6e-4304-9699-1bcf0c82bd57",
   "metadata": {},
   "outputs": [
    {
     "name": "stdout",
     "output_type": "stream",
     "text": [
      "Boron\n",
      "Boron\n"
     ]
    }
   ],
   "source": [
    "elements = ['Hydrogen',\n",
    "            'Helium', 'Lithium',\n",
    "            'Beryllium', 'Boron', 'Carbon',\n",
    "            'Nitrogen', 'Oxygen',\n",
    "            'Fluorine',\n",
    "            'Neon']\n",
    "\n",
    "print(elements[4])\n",
    "print(elements[-6])"
   ]
  },
  {
   "cell_type": "markdown",
   "id": "688cb6f8-c6fb-48c6-9767-5af46b8fdb02",
   "metadata": {},
   "source": [
    "## Exercise 4"
   ]
  },
  {
   "cell_type": "code",
   "execution_count": 10,
   "id": "b6235910-07ef-4488-9a42-c7f6f2ad8030",
   "metadata": {},
   "outputs": [
    {
     "name": "stdout",
     "output_type": "stream",
     "text": [
      "9\n"
     ]
    }
   ],
   "source": [
    "import numpy as np\n",
    "\n",
    "numbers=[45, 60, 1, 30, 96, 1, 96, 57, 16, 1,\n",
    "        99, 62, 86, 43, 42, 60, 59, 1, 1, 35,\n",
    "        83, 47, 34, 28, 68, 23, 22, 92, 1, 79,\n",
    "        1, 29, 94, 72, 46, 47, 1, 74, 32, 20,\n",
    "        8, 37, 35, 1, 89, 29, 86, 19, 43, 61]    \n",
    "\n",
    "np_array = np.array(numbers)\n",
    "\n",
    "truefalsearray = np_array == 1\n",
    "\n",
    "print(sum(truefalsearray))\n",
    "\n",
    "\n"
   ]
  },
  {
   "cell_type": "markdown",
   "id": "384a4d9d-a738-4b4d-9262-2d09add5023b",
   "metadata": {},
   "source": [
    "## Exercise 5"
   ]
  },
  {
   "cell_type": "code",
   "execution_count": 24,
   "id": "b6597278-ef3a-40c9-bd89-2dc2f805ca2f",
   "metadata": {},
   "outputs": [
    {
     "name": "stdout",
     "output_type": "stream",
     "text": [
      "Mean of x_1 = 38.5\n",
      "Mean of x_2 = 302.5\n",
      "0.9871796626270701\n",
      "[[1.         0.98717966]\n",
      " [0.98717966 1.        ]]\n"
     ]
    }
   ],
   "source": [
    "import numpy as np\n",
    "\n",
    "x_1 = [1, 4, 9, 16, 25, 36, 49, 64, 81, 100]\n",
    "x_2 = [1, 8, 27, 64, 125, 216, 343, 512, 729, 1000]\n",
    "\n",
    "np_array1 = np.array(x_1)\n",
    "\n",
    "np_array2 = np.array(x_2)\n",
    "\n",
    "mean1 = np.mean(np_array1)\n",
    "\n",
    "mean2 = np.mean(np_array2)\n",
    "\n",
    "print(f'Mean of x_1 = {mean1}')\n",
    "\n",
    "print(f'Mean of x_2 = {mean2}')\n",
    "\n",
    "xminusxbar = x_1 - mean1\n",
    "yminusybar = x_2 - mean2\n",
    "\n",
    "\n",
    "r = sum(xminusxbar*yminusybar) / np.sqrt(sum((xminusxbar**2)*sum(yminusybar**2)))\n",
    "\n",
    "print(r)\n",
    "\n",
    "print(np.corrcoef(x_1,x_2))"
   ]
  },
  {
   "cell_type": "markdown",
   "id": "058e0451-40b8-4494-8673-57cda0f2cf1a",
   "metadata": {},
   "source": [
    "$$r = \\dfrac{\\sum(x_i-\\overline{x})(y_i-\\overline{y})}{\\sqrt{\\sum((x_i-\\overline{x})^{2}\\sum(y_i-\\overline{y})^2}}$$"
   ]
  }
 ],
 "metadata": {
  "kernelspec": {
   "display_name": "Python 3 (ipykernel)",
   "language": "python",
   "name": "python3"
  },
  "language_info": {
   "codemirror_mode": {
    "name": "ipython",
    "version": 3
   },
   "file_extension": ".py",
   "mimetype": "text/x-python",
   "name": "python",
   "nbconvert_exporter": "python",
   "pygments_lexer": "ipython3",
   "version": "3.12.2"
  },
  "toc": {
   "base_numbering": 1,
   "nav_menu": {},
   "number_sections": true,
   "sideBar": true,
   "skip_h1_title": false,
   "title_cell": "Table of Contents",
   "title_sidebar": "Contents",
   "toc_cell": false,
   "toc_position": {},
   "toc_section_display": true,
   "toc_window_display": false
  },
  "vscode": {
   "interpreter": {
    "hash": "31f2aee4e71d21fbe5cf8b01ff0e069b9275f58929596ceb00d14d90e3e16cd6"
   }
  }
 },
 "nbformat": 4,
 "nbformat_minor": 5
}
