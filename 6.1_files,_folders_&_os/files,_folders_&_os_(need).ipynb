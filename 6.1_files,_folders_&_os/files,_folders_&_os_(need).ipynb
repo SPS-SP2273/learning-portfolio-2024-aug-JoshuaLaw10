{
 "cells": [
  {
   "attachments": {},
   "cell_type": "markdown",
   "id": "123456",
   "metadata": {},
   "source": [
    "<div style=\"text-align:left;font-size:2em\"><span style=\"font-weight:bolder;font-size:1.25em\">SP2273 | Learning Portfolio</span><br><br><span style=\"font-weight:bold;color:darkred\">Files, Folders & OS (Need)</span></div>"
   ]
  },
  {
   "attachments": {},
   "cell_type": "markdown",
   "id": "6f4df2a7",
   "metadata": {},
   "source": [
    "# What to expect in this chapter"
   ]
  },
  {
   "attachments": {},
   "cell_type": "markdown",
   "id": "56b95745",
   "metadata": {},
   "source": [
    "# 1 Important concepts"
   ]
  },
  {
   "attachments": {},
   "cell_type": "markdown",
   "id": "55777bdd",
   "metadata": {},
   "source": [
    "## 1.1 Path"
   ]
  },
  {
   "cell_type": "code",
   "execution_count": 3,
   "id": "484c47be-b2ea-43ef-a8b4-454efec28b8a",
   "metadata": {},
   "outputs": [],
   "source": [
    "import os, glob, shutil"
   ]
  },
  {
   "cell_type": "code",
   "execution_count": 5,
   "id": "74c4b8c2-1917-43a8-bcf7-7920efcfdd6a",
   "metadata": {},
   "outputs": [
    {
     "data": {
      "text/plain": [
       "'/Users/joshuaawesome/Desktop/SP2273 Python/6.1_files,_folders_&_os'"
      ]
     },
     "execution_count": 5,
     "metadata": {},
     "output_type": "execute_result"
    }
   ],
   "source": [
    "os.getcwd() #get current working directory"
   ]
  },
  {
   "attachments": {},
   "cell_type": "markdown",
   "id": "dbc6d5a0",
   "metadata": {},
   "source": [
    "## 1.2 More about relative paths"
   ]
  },
  {
   "attachments": {},
   "cell_type": "markdown",
   "id": "5614a11f",
   "metadata": {},
   "source": [
    "### macOS or Linux"
   ]
  },
  {
   "cell_type": "markdown",
   "id": "75358ad1-1267-45af-8b30-ac1f1a1ea152",
   "metadata": {},
   "source": [
    "~\\Desktop\\data-01.txt"
   ]
  },
  {
   "attachments": {},
   "cell_type": "markdown",
   "id": "45662d94",
   "metadata": {},
   "source": [
    "## 1.3 Path separator"
   ]
  },
  {
   "cell_type": "code",
   "execution_count": 38,
   "id": "5cbeab13-3b90-41bd-96ce-1cbc7f4ce892",
   "metadata": {},
   "outputs": [
    {
     "data": {
      "text/plain": [
       "True"
      ]
     },
     "execution_count": 38,
     "metadata": {},
     "output_type": "execute_result"
    }
   ],
   "source": [
    "os.path.exists('haha.txt')"
   ]
  },
  {
   "cell_type": "code",
   "execution_count": 40,
   "id": "0e496de8-e2fd-4941-b0b3-1a40eb454751",
   "metadata": {},
   "outputs": [
    {
     "data": {
      "text/plain": [
       "False"
      ]
     },
     "execution_count": 40,
     "metadata": {},
     "output_type": "execute_result"
    }
   ],
   "source": [
    "os.path.exists('/Users/joshuaawesome/Desktop/SP2273 Python/6.1_files,_folders_&_os_(need)')"
   ]
  },
  {
   "cell_type": "code",
   "execution_count": 41,
   "id": "3da16590-acaf-4a54-9208-9e76154532e1",
   "metadata": {},
   "outputs": [
    {
     "data": {
      "text/plain": [
       "False"
      ]
     },
     "execution_count": 41,
     "metadata": {},
     "output_type": "execute_result"
    }
   ],
   "source": [
    "os.path.exists('..\\\\..\\\\..\\\\..\\\\6.1_files,_folders_&_os_(need)')"
   ]
  },
  {
   "attachments": {},
   "cell_type": "markdown",
   "id": "3f13a6ee",
   "metadata": {},
   "source": [
    "## 1.4 Text files vs. Binary files"
   ]
  },
  {
   "cell_type": "markdown",
   "id": "9da66e36-0512-4f82-8f2d-537a73fd3398",
   "metadata": {},
   "source": [
    "Binary files are in binary and can only be read correctly by that application"
   ]
  },
  {
   "attachments": {},
   "cell_type": "markdown",
   "id": "534bb769",
   "metadata": {},
   "source": [
    "## 1.5 Extensions"
   ]
  },
  {
   "cell_type": "code",
   "execution_count": 45,
   "id": "ca0ec8f3-ad75-4f13-9139-5cf968284985",
   "metadata": {},
   "outputs": [],
   "source": [
    "text = 'Far out in the uncharted backwaters of the unfashionable end of the western spiral arm of the Galaxy lies a small unregarded yellow sun.\\nOrbiting this at a distance of roughly ninety-two million miles is an utterly insignificant little blue green planet whose ape-descended life forms are so amazingly primitive that they still think digital watches are a pretty neat idea.'"
   ]
  },
  {
   "cell_type": "code",
   "execution_count": 24,
   "id": "d0665d38-f6de-40e7-9683-98b95e748294",
   "metadata": {},
   "outputs": [
    {
     "data": {
      "text/plain": [
       "'/'"
      ]
     },
     "execution_count": 24,
     "metadata": {},
     "output_type": "execute_result"
    }
   ],
   "source": [
    "os.path.sep"
   ]
  },
  {
   "cell_type": "code",
   "execution_count": 148,
   "id": "7f9c3be1-627c-4acd-a9e1-1d987e7ff1f6",
   "metadata": {},
   "outputs": [
    {
     "name": "stdout",
     "output_type": "stream",
     "text": [
      "./data-files/haha.txt\n"
     ]
    }
   ],
   "source": [
    "filepath = '.\\\\data-files\\\\haha.txt' # hard codes for windows\n",
    "\n",
    "'os independent:'\n",
    "filepath = f'.{os.path.sep}data-files{os.path.sep}haha.txt'\n",
    "filepath = os.path.join('.','data-files','haha.txt')\n",
    "\n",
    "print(filepath)"
   ]
  },
  {
   "cell_type": "code",
   "execution_count": 42,
   "id": "e8089daf-2b9b-48ee-9be9-b2202865f04a",
   "metadata": {},
   "outputs": [
    {
     "data": {
      "text/plain": [
       "('haha', '.txt')"
      ]
     },
     "execution_count": 42,
     "metadata": {},
     "output_type": "execute_result"
    }
   ],
   "source": [
    "os.path.splitext('haha.txt')"
   ]
  },
  {
   "cell_type": "code",
   "execution_count": 32,
   "id": "4f8d2e1d-473b-4358-88d1-f15621ba4b36",
   "metadata": {},
   "outputs": [
    {
     "data": {
      "text/plain": [
       "('', 'haha.txt')"
      ]
     },
     "execution_count": 32,
     "metadata": {},
     "output_type": "execute_result"
    }
   ],
   "source": [
    "os.path.split('haha.txt')"
   ]
  },
  {
   "cell_type": "code",
   "execution_count": 145,
   "id": "60e3faea-8e16-41c3-831e-211ddc7d43ba",
   "metadata": {},
   "outputs": [
    {
     "data": {
      "text/plain": [
       "'txt'"
      ]
     },
     "execution_count": 145,
     "metadata": {},
     "output_type": "execute_result"
    }
   ],
   "source": [
    "filename = 'haha.txt'\n",
    "filename .split('.')[-1]"
   ]
  },
  {
   "attachments": {},
   "cell_type": "markdown",
   "id": "d5fbd0fa",
   "metadata": {},
   "source": [
    "# 2 Opening and closing files"
   ]
  },
  {
   "attachments": {},
   "cell_type": "markdown",
   "id": "e30289e6",
   "metadata": {},
   "source": [
    "## 2.1 Reading data"
   ]
  },
  {
   "cell_type": "code",
   "execution_count": 144,
   "id": "3e35e4d8-286f-4960-adc6-d163cc5b1379",
   "metadata": {},
   "outputs": [
    {
     "name": "stdout",
     "output_type": "stream",
     "text": [
      "GONE\n",
      "Gone\n"
     ]
    }
   ],
   "source": [
    "with open('haha.txt', 'r') as file:  # r is for readin\n",
    "    file_content = file.read()\n",
    "\n",
    "print(file_content)"
   ]
  },
  {
   "attachments": {},
   "cell_type": "markdown",
   "id": "2f5f4e2f",
   "metadata": {},
   "source": [
    "## 2.2 Writing data"
   ]
  },
  {
   "attachments": {},
   "cell_type": "markdown",
   "id": "4f07d901",
   "metadata": {},
   "source": [
    "### Writing to a file in one go"
   ]
  },
  {
   "cell_type": "code",
   "execution_count": 138,
   "id": "6e34105f",
   "metadata": {},
   "outputs": [],
   "source": [
    "with open('haha.txt', 'w') as file: # w rewrites the whole file\n",
    "    file.write('GONE')\n",
    "    file.close()"
   ]
  },
  {
   "cell_type": "code",
   "execution_count": 141,
   "id": "e8a7a8fa-0113-4b24-b671-20162b5c0d41",
   "metadata": {},
   "outputs": [],
   "source": [
    "with open('haha.txt', 'a') as file:    # a is append\n",
    "    file.write('\\nGone')\n",
    "    file.close()"
   ]
  },
  {
   "cell_type": "code",
   "execution_count": 142,
   "id": "a5f2207e-7578-49d9-a6d4-3bd151ffb1bb",
   "metadata": {},
   "outputs": [
    {
     "name": "stdout",
     "output_type": "stream",
     "text": [
      "GONE\n",
      "Gone\n"
     ]
    }
   ],
   "source": [
    "with open('haha.txt', 'r') as file: \n",
    "    file_content = file.read()\n",
    "    file.close()\n",
    "\n",
    "print(file_content)"
   ]
  },
  {
   "cell_type": "code",
   "execution_count": 143,
   "id": "1a994bd7-2d6f-4d05-b3c6-ab476d6b13ca",
   "metadata": {},
   "outputs": [
    {
     "name": "stdout",
     "output_type": "stream",
     "text": [
      "GONEh\u001b=\n",
      "Gone\n",
      "\u001b[K\u001b[?1l\u001b>xt (END)\u001b[m\u001b[K\u0007"
     ]
    }
   ],
   "source": [
    "!more haha.txt    # !more = whats inside"
   ]
  },
  {
   "cell_type": "code",
   "execution_count": null,
   "id": "a4a01742-c74b-4b66-914a-df1041c5b2f4",
   "metadata": {},
   "outputs": [],
   "source": []
  },
  {
   "cell_type": "code",
   "execution_count": 75,
   "id": "54ca13d4-e371-44e0-b18f-3cd021478a02",
   "metadata": {},
   "outputs": [
    {
     "ename": "FileExistsError",
     "evalue": "[Errno 17] File exists: 'woo0'",
     "output_type": "error",
     "traceback": [
      "\u001b[0;31m---------------------------------------------------------------------------\u001b[0m",
      "\u001b[0;31mFileExistsError\u001b[0m                           Traceback (most recent call last)",
      "Cell \u001b[0;32mIn[75], line 2\u001b[0m\n\u001b[1;32m      1\u001b[0m \u001b[38;5;28;01mfor\u001b[39;00m i \u001b[38;5;129;01min\u001b[39;00m \u001b[38;5;28mrange\u001b[39m(\u001b[38;5;241m2\u001b[39m):\n\u001b[0;32m----> 2\u001b[0m     \u001b[43mos\u001b[49m\u001b[38;5;241;43m.\u001b[39;49m\u001b[43mmkdir\u001b[49m\u001b[43m(\u001b[49m\u001b[38;5;124;43mf\u001b[39;49m\u001b[38;5;124;43m'\u001b[39;49m\u001b[38;5;124;43mwoo\u001b[39;49m\u001b[38;5;132;43;01m{\u001b[39;49;00m\u001b[43mi\u001b[49m\u001b[38;5;132;43;01m}\u001b[39;49;00m\u001b[38;5;124;43m'\u001b[39;49m\u001b[43m)\u001b[49m\n",
      "\u001b[0;31mFileExistsError\u001b[0m: [Errno 17] File exists: 'woo0'"
     ]
    }
   ],
   "source": [
    "for i in range(2):\n",
    "    os.mkdir(f'woo{i}')"
   ]
  },
  {
   "cell_type": "code",
   "execution_count": null,
   "id": "5415efcd-d354-433d-b91a-486dd5733991",
   "metadata": {},
   "outputs": [],
   "source": [
    "filename = 'non-existantfile.txt'\n",
    "\n",
    "if os.path.exists(filename):\n",
    "    with open('haha.txt', 'r') as file:\n",
    "    file_content = file.read()\n",
    "\n",
    "print(file_content)"
   ]
  },
  {
   "cell_type": "code",
   "execution_count": 89,
   "id": "61c697ba-4422-477e-8481-617056f6dea7",
   "metadata": {},
   "outputs": [
    {
     "name": "stdout",
     "output_type": "stream",
     "text": [
      "No file found so I am creating it\n"
     ]
    }
   ],
   "source": [
    "filename = 'non-existantfile.txt'\n",
    "\n",
    "try:\n",
    "    with open(filename,'r') as file:\n",
    "        text = file.read()\n",
    "except FileNotFoundError:\n",
    "    print('No file found so I am creating it')\n",
    "    with open(filename,'w') as file:\n",
    "        text = file.write('New file')"
   ]
  },
  {
   "attachments": {},
   "cell_type": "markdown",
   "id": "788a114a",
   "metadata": {},
   "source": [
    "### Writing to a file, line by line"
   ]
  },
  {
   "cell_type": "code",
   "execution_count": 90,
   "id": "5540da8d",
   "metadata": {},
   "outputs": [
    {
     "ename": "AttributeError",
     "evalue": "'int' object has no attribute 'splitlines'",
     "output_type": "error",
     "traceback": [
      "\u001b[0;31m---------------------------------------------------------------------------\u001b[0m",
      "\u001b[0;31mAttributeError\u001b[0m                            Traceback (most recent call last)",
      "Cell \u001b[0;32mIn[90], line 2\u001b[0m\n\u001b[1;32m      1\u001b[0m \u001b[38;5;28;01mwith\u001b[39;00m \u001b[38;5;28mopen\u001b[39m(\u001b[38;5;124m'\u001b[39m\u001b[38;5;124mmy-text-lines.txt\u001b[39m\u001b[38;5;124m'\u001b[39m, \u001b[38;5;124m'\u001b[39m\u001b[38;5;124mw\u001b[39m\u001b[38;5;124m'\u001b[39m) \u001b[38;5;28;01mas\u001b[39;00m file:\n\u001b[0;32m----> 2\u001b[0m     \u001b[38;5;28;01mfor\u001b[39;00m line \u001b[38;5;129;01min\u001b[39;00m \u001b[43mtext\u001b[49m\u001b[38;5;241;43m.\u001b[39;49m\u001b[43msplitlines\u001b[49m():\n\u001b[1;32m      3\u001b[0m         file\u001b[38;5;241m.\u001b[39mwritelines(line)\n",
      "\u001b[0;31mAttributeError\u001b[0m: 'int' object has no attribute 'splitlines'"
     ]
    }
   ],
   "source": [
    "with open('my-text-lines.txt', 'w') as file:\n",
    "    for line in text.splitlines():\n",
    "        file.writelines(line)"
   ]
  },
  {
   "attachments": {},
   "cell_type": "markdown",
   "id": "4390aafe",
   "metadata": {},
   "source": [
    "# 3 Some useful packages"
   ]
  },
  {
   "cell_type": "code",
   "execution_count": 98,
   "id": "f97061bb-ff2f-4a05-b3e9-4529f94eb0a8",
   "metadata": {},
   "outputs": [],
   "source": [
    "import glob, os, shutil"
   ]
  },
  {
   "cell_type": "code",
   "execution_count": 107,
   "id": "05e38997-6e75-43a5-9987-61ae9d025581",
   "metadata": {},
   "outputs": [
    {
     "data": {
      "text/plain": [
       "['my-text-once.txt',\n",
       " 'haha.txt',\n",
       " 'non-existantfile.txt',\n",
       " 'files,_folders_&_os_(need).ipynb',\n",
       " 'woo0',\n",
       " 'woo1',\n",
       " 'hahaha.txt',\n",
       " 'my-text-lines.txt']"
      ]
     },
     "execution_count": 107,
     "metadata": {},
     "output_type": "execute_result"
    }
   ],
   "source": [
    "glob.glob('*')"
   ]
  },
  {
   "cell_type": "code",
   "execution_count": 115,
   "id": "f70a1148-4f9b-438a-9418-92fd33bc5201",
   "metadata": {},
   "outputs": [
    {
     "data": {
      "text/plain": [
       "['fundamentals_(need)_exercises.ipynb',\n",
       " 'fundamentals_(good)_exercises.ipynb',\n",
       " 'storing_data_(good).ipynb',\n",
       " 'storing_data_(need).ipynb',\n",
       " 'plotting_(need)_exercises.ipynb',\n",
       " 'plotting_(good)_exercises.ipynb',\n",
       " 'plotting_(need).ipynb',\n",
       " 'plotting_(good).ipynb',\n",
       " 'functions_(good)_exercises.ipynb',\n",
       " 'functions_(need)_exercises.ipynb',\n",
       " 'using_jupyter_(good).ipynb',\n",
       " 'using_jupyter_(need).ipynb',\n",
       " 'JupyterLesson1.ipynb',\n",
       " 'files,_folders_&_os_(need).ipynb',\n",
       " 'hello,_github!_(need).ipynb',\n",
       " 'hello,_jupyter!_(need).ipynb',\n",
       " 'storing_data_(good)_exercises.ipynb',\n",
       " 'storing_data_(need)_exercises.ipynb',\n",
       " 'using_jupyter_(good),_exercises.ipynb',\n",
       " 'using_jupyter_(need),_exercises.ipynb',\n",
       " 'functions_(good).ipynb',\n",
       " 'functions_(nice).ipynb',\n",
       " 'functions_(need).ipynb',\n",
       " 'virtual_environments_(nice!).ipynb',\n",
       " 'loops_(good)_exercises.ipynb',\n",
       " 'loops_(need)_exercises.ipynb',\n",
       " 'fundamentals_(good).ipynb',\n",
       " 'fundamentals_(nice).ipynb',\n",
       " 'fundamentals_(need).ipynb',\n",
       " 'loops_(good).ipynb',\n",
       " 'loops_(need).ipynb',\n",
       " 'loops_(nice).ipynb',\n",
       " 'files,_folders_&_os_(need)_exercises.ipynb']"
      ]
     },
     "execution_count": 115,
     "metadata": {},
     "output_type": "execute_result"
    }
   ],
   "source": [
    "all_files = glob.glob('../**/*.ipynb', recursive = True)\n",
    "[os.path.split(file)[-1] for file in all_files]"
   ]
  },
  {
   "cell_type": "code",
   "execution_count": 105,
   "id": "5d1462a9-990c-4819-98eb-ea2e9ef7e181",
   "metadata": {},
   "outputs": [
    {
     "data": {
      "text/plain": [
       "['my-text-once.txt',\n",
       " 'haha.txt',\n",
       " 'non-existantfile.txt',\n",
       " 'hahaha.txt',\n",
       " 'my-text-lines.txt']"
      ]
     },
     "execution_count": 105,
     "metadata": {},
     "output_type": "execute_result"
    }
   ],
   "source": [
    "glob.glob('*.txt')  "
   ]
  },
  {
   "cell_type": "code",
   "execution_count": 101,
   "id": "70e6bcb2-a75f-4243-b90d-d85c27eeb5f3",
   "metadata": {},
   "outputs": [
    {
     "name": "stdout",
     "output_type": "stream",
     "text": [
      "files,_folders_&_os_(need).ipynb my-text-once.txt\n",
      "haha.txt                         non-existantfile.txt\n",
      "hahaha.txt                       \u001b[34mwoo0\u001b[m\u001b[m\n",
      "my-text-lines.txt                \u001b[34mwoo1\u001b[m\u001b[m\n"
     ]
    }
   ],
   "source": [
    "!ls"
   ]
  },
  {
   "attachments": {},
   "cell_type": "markdown",
   "id": "cf65dfa3",
   "metadata": {},
   "source": [
    "# 4 OS safe paths"
   ]
  },
  {
   "attachments": {},
   "cell_type": "markdown",
   "id": "7ebed9c6",
   "metadata": {},
   "source": [
    "# 5 Folders"
   ]
  },
  {
   "attachments": {},
   "cell_type": "markdown",
   "id": "1c7b999e",
   "metadata": {},
   "source": [
    "## 5.1 Creating folders"
   ]
  },
  {
   "attachments": {},
   "cell_type": "markdown",
   "id": "21424bea",
   "metadata": {},
   "source": [
    "## 5.2 Checking for existence"
   ]
  },
  {
   "attachments": {},
   "cell_type": "markdown",
   "id": "8fd700e0",
   "metadata": {},
   "source": [
    "### Using try-except"
   ]
  },
  {
   "cell_type": "code",
   "execution_count": null,
   "id": "708a973b",
   "metadata": {},
   "outputs": [],
   "source": [
    "\n",
    "# Your code here\n"
   ]
  },
  {
   "attachments": {},
   "cell_type": "markdown",
   "id": "0bafc3eb",
   "metadata": {},
   "source": [
    "### Using os.path.exists()"
   ]
  },
  {
   "cell_type": "code",
   "execution_count": null,
   "id": "4e50031a",
   "metadata": {},
   "outputs": [],
   "source": [
    "\n",
    "# Your code here\n"
   ]
  },
  {
   "attachments": {},
   "cell_type": "markdown",
   "id": "6e5120d1",
   "metadata": {},
   "source": [
    "## 5.3 Copying files"
   ]
  },
  {
   "attachments": {},
   "cell_type": "markdown",
   "id": "5d64f6d5",
   "metadata": {},
   "source": [
    "# 6 Listing and looking for files"
   ]
  },
  {
   "attachments": {},
   "cell_type": "markdown",
   "id": "b98878c7",
   "metadata": {},
   "source": [
    "# 7 Extracting file info"
   ]
  },
  {
   "attachments": {},
   "cell_type": "markdown",
   "id": "d504d344",
   "metadata": {},
   "source": [
    "# 8 Deleting stuff"
   ]
  }
 ],
 "metadata": {
  "kernelspec": {
   "display_name": "Python 3 (ipykernel)",
   "language": "python",
   "name": "python3"
  },
  "language_info": {
   "codemirror_mode": {
    "name": "ipython",
    "version": 3
   },
   "file_extension": ".py",
   "mimetype": "text/x-python",
   "name": "python",
   "nbconvert_exporter": "python",
   "pygments_lexer": "ipython3",
   "version": "3.12.2"
  },
  "toc": {
   "base_numbering": 1,
   "nav_menu": {},
   "number_sections": true,
   "sideBar": true,
   "skip_h1_title": false,
   "title_cell": "Table of Contents",
   "title_sidebar": "Contents",
   "toc_cell": false,
   "toc_position": {},
   "toc_section_display": true,
   "toc_window_display": false
  },
  "vscode": {
   "interpreter": {
    "hash": "31f2aee4e71d21fbe5cf8b01ff0e069b9275f58929596ceb00d14d90e3e16cd6"
   }
  }
 },
 "nbformat": 4,
 "nbformat_minor": 5
}
