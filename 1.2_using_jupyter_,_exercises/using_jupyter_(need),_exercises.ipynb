{
 "cells": [
  {
   "attachments": {},
   "cell_type": "markdown",
   "id": "123456",
   "metadata": {},
   "source": [
    "<div style=\"text-align:left;font-size:2em\"><span style=\"font-weight:bolder;font-size:1.25em\">SP2273 | Learning Portfolio</span><br><br><span style=\"font-weight:bold;color:darkred\">Using Jupyter (Need), Exercises</span></div>"
   ]
  },
  {
   "attachments": {},
   "cell_type": "markdown",
   "id": "be820bb9",
   "metadata": {},
   "source": [
    "## 1 Quadratic Equations"
   ]
  },
  {
   "attachments": {},
   "cell_type": "markdown",
   "id": "916b2b1d",
   "metadata": {},
   "source": [
    "### Introduction"
   ]
  },
  {
   "cell_type": "markdown",
   "id": "7d7a0a99-043a-4587-8ee5-4ca2f0c248cb",
   "metadata": {},
   "source": [
    "## 1 Quadratic Equations\n",
    "\n",
    "### Introduction\n",
    "\n",
    "![](https://upload.wikimedia.org/wikipedia/commons/thumb/f/f8/Polynomialdeg2.svg/600px-Polynomialdeg2.svg.png)\n",
    "\n",
    "The general form of a quadratic equation is:\n",
    "\n",
    "$$ax^{2} + bx + c$$\n",
    "\n",
    "\n",
    "\n",
    "\n",
    "\n"
   ]
  },
  {
   "cell_type": "code",
   "execution_count": null,
   "id": "0288c418-783f-4e37-b427-ed938b4aa67c",
   "metadata": {},
   "outputs": [],
   "source": []
  },
  {
   "attachments": {},
   "cell_type": "markdown",
   "id": "39f5c84c",
   "metadata": {},
   "source": [
    "### Solutions"
   ]
  },
  {
   "cell_type": "markdown",
   "id": "25c02a5a-fdaa-4a04-876a-d40df49c339c",
   "metadata": {},
   "source": [
    "## Solutions\n",
    "\n",
    "Provided $a \\ne b$, we can use an elementary algebraic method called completing the square to show that a quadratic equation has the following solution:\n",
    "\n",
    "$$\n",
    "x = \\dfrac{-b \\pm \\sqrt{b^2-4ac}}{2a}\n",
    "$$"
   ]
  },
  {
   "attachments": {},
   "cell_type": "markdown",
   "id": "255cda66",
   "metadata": {},
   "source": [
    "### Discriminant"
   ]
  },
  {
   "cell_type": "markdown",
   "id": "daa76aed-0ecf-46fb-a283-f7ee044e7ab6",
   "metadata": {},
   "source": [
    "## Discriminant\n",
    "\n",
    "The quantity $\\Delta = b^{2} - 4ac$ is called the discriminant of the equation and decides the nature of its solutions. The table below shows the various possibilities.\n",
    "\n",
    "|**Discriminant**|**Roots**|\n",
    "|:-:|:-|\n",
    "|$\\Delta = b^{2} - 4ac = 0$|A single solution of $\\dfrac{-b}{a}$|\n",
    "|$\\Delta = b^{2} - 4ac > 0$|Two distinct solutions|\n",
    "|$\\Delta = b^{2} - 4ac < 0$|No real solutions; both are complex.|"
   ]
  },
  {
   "cell_type": "markdown",
   "id": "1c91f6ad-5f13-47e2-a98e-32898975a232",
   "metadata": {},
   "source": [
    "## Exercise 2"
   ]
  },
  {
   "cell_type": "markdown",
   "id": "0e239a83-df95-4839-94b9-081b2330d7cd",
   "metadata": {},
   "source": [
    "What is a Git repository?\n",
    "\n",
    "It is a central area where files and folders are stored for a project/course.\n"
   ]
  },
  {
   "cell_type": "markdown",
   "id": "0542c85b-34a8-43b3-aaa1-137ab2fd78f4",
   "metadata": {},
   "source": [
    "Git keeps tracks of changes in the files in our repository.\n"
   ]
  },
  {
   "cell_type": "markdown",
   "id": "f19c395d-491d-4da5-bb7f-5b455488694c",
   "metadata": {},
   "source": [
    "What is a commit?\n",
    "\n",
    "It is to record down a change/progress in the current project, writing down the changes and updated the files and specific changes in git"
   ]
  },
  {
   "cell_type": "markdown",
   "id": "c60034bf-0555-4487-bc68-9dc58706b318",
   "metadata": {},
   "source": [
    "What is a push?\n",
    "It is to uploaded the changes of the project to the github cloud and is stored there, being accessible online and syncs the online and local files."
   ]
  },
  {
   "cell_type": "markdown",
   "id": "11378d4f-dd64-4886-b28f-c2f6bb2cff6b",
   "metadata": {},
   "source": [
    "What is a pull?\n",
    "It is to bring changes online in github into your project files to sync them."
   ]
  },
  {
   "cell_type": "markdown",
   "id": "4496db6d-784f-44f6-84fc-54d17000822e",
   "metadata": {},
   "source": [
    "What is the difference between GitHub and GitHub Desktop?\n",
    "\n",
    "GitHub is the place to store repositories, keeping track of changes and updates.\n",
    "GitHub Desktop is a graphical user interface to sync and push changes more easily."
   ]
  },
  {
   "cell_type": "markdown",
   "id": "7cce70b5-e8b0-4d74-abe2-08ba0c368d44",
   "metadata": {},
   "source": [
    "## Exercise 3"
   ]
  },
  {
   "cell_type": "markdown",
   "id": "076c4a28-a785-48d3-9907-108feb23e95d",
   "metadata": {},
   "source": [
    "$$\\mu =\\dfrac{1}{n}\\sum_{i=1}^{n} x_i$$\n"
   ]
  },
  {
   "cell_type": "markdown",
   "id": "8ee6f881-3e1c-4464-bf99-1bef6f92b06c",
   "metadata": {},
   "source": [
    "$$\\sigma = \\sqrt{\\dfrac{1}{n}\\sum_{i=1}^{n}{(x_i-\\mu)}^{2}}$$\n"
   ]
  },
  {
   "cell_type": "markdown",
   "id": "4443be15-fcb4-4255-8fbb-1cf4310f8a67",
   "metadata": {},
   "source": [
    "$$r=\\dfrac{\\sum_{i=1}^{n}{(x_i - \\mu_X)(y_i-\\mu_Y)}}{\\sqrt{\\sum_{i=1}^{n}{(x_i-\\mu_X)^{2}}\\sum_{i=1}^{n}{(y_i - \\mu_Y)^{2}}}}$$"
   ]
  }
 ],
 "metadata": {
  "kernelspec": {
   "display_name": "Python 3 (ipykernel)",
   "language": "python",
   "name": "python3"
  },
  "language_info": {
   "codemirror_mode": {
    "name": "ipython",
    "version": 3
   },
   "file_extension": ".py",
   "mimetype": "text/x-python",
   "name": "python",
   "nbconvert_exporter": "python",
   "pygments_lexer": "ipython3",
   "version": "3.12.2"
  },
  "toc": {
   "base_numbering": 1,
   "nav_menu": {},
   "number_sections": true,
   "sideBar": true,
   "skip_h1_title": false,
   "title_cell": "Table of Contents",
   "title_sidebar": "Contents",
   "toc_cell": false,
   "toc_position": {},
   "toc_section_display": true,
   "toc_window_display": false
  },
  "vscode": {
   "interpreter": {
    "hash": "31f2aee4e71d21fbe5cf8b01ff0e069b9275f58929596ceb00d14d90e3e16cd6"
   }
  }
 },
 "nbformat": 4,
 "nbformat_minor": 5
}
