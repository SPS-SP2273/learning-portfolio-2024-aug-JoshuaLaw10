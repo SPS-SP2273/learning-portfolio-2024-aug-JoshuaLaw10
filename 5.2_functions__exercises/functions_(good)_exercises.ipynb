{
 "cells": [
  {
   "attachments": {},
   "cell_type": "markdown",
   "id": "123456",
   "metadata": {},
   "source": [
    "<div style=\"text-align:left;font-size:2em\"><span style=\"font-weight:bolder;font-size:1.25em\">SP2273 | Learning Portfolio</span><br><br><span style=\"font-weight:bold;color:darkred\">Functions (Good) Exercises</span></div>"
   ]
  },
  {
   "cell_type": "markdown",
   "id": "c117ed1a-626b-40ee-8576-7cd82191cdd1",
   "metadata": {},
   "source": [
    "## Exercise 1"
   ]
  },
  {
   "cell_type": "code",
   "execution_count": 19,
   "id": "ed933fc6-2213-470d-8218-1da737646fdd",
   "metadata": {},
   "outputs": [
    {
     "data": {
      "text/plain": [
       "'0.00°F'"
      ]
     },
     "execution_count": 19,
     "metadata": {},
     "output_type": "execute_result"
    }
   ],
   "source": [
    "def convert_celsius(temperature_celsius,target_scale = 'Fahrenheit'):\n",
    "\n",
    "    if target_scale == 'Kelvin':\n",
    "        return f'{(temperature_celsius + 273.15):.2f}°K'\n",
    "\n",
    "    else:\n",
    "        return f'{((temperature_celsius - 32) * 5/9):.2f}°F'\n",
    "\n",
    "\n",
    "# convert_celsius(32, 'Kelvin')\n",
    "convert_celsius(32)\n",
    "    "
   ]
  },
  {
   "cell_type": "markdown",
   "id": "c423718a-acc3-415d-aaad-126f29975b38",
   "metadata": {},
   "source": [
    "## Exercise 2"
   ]
  },
  {
   "cell_type": "code",
   "execution_count": 25,
   "id": "09b89c9b-7171-425f-88c5-fd14a0db9309",
   "metadata": {},
   "outputs": [
    {
     "data": {
      "text/plain": [
       "'0.0°C'"
      ]
     },
     "execution_count": 25,
     "metadata": {},
     "output_type": "execute_result"
    }
   ],
   "source": [
    "def convert_fahrenheit(temperature_fahrenheit,target_scale = 'Celsius'):\n",
    "\n",
    "    # declare \n",
    "    #temperature_celsius = (temperature_fahrenheit - 32) * 5/9 \n",
    "    #since I am reusing it twice\n",
    "    \n",
    "    if target_scale == 'Kelvin':\n",
    "        return f'{(temperature_fahrenheit - 32) * 5/9 + 273.15}°K'\n",
    "\n",
    "    else:\n",
    "        return f'{(temperature_fahrenheit - 32) * 5/9}°C'\n",
    "       \n"
   ]
  },
  {
   "cell_type": "markdown",
   "id": "a45241ba-01f0-4e4d-b639-7e9d2216bca9",
   "metadata": {},
   "source": [
    "## Exercise 3"
   ]
  },
  {
   "cell_type": "code",
   "execution_count": 28,
   "id": "bce170be-9978-418c-a48e-02d7f17a8827",
   "metadata": {},
   "outputs": [],
   "source": [
    "def convert_kelvin(temperature_kelvin,target_scale = 'Celsius'):\n",
    "    \n",
    "    if target_scale == 'Fahrenheit':\n",
    "        return f'{(temperature_kelvin - 273.15) * 9/5 + 32}°F'\n",
    "\n",
    "    else:\n",
    "        return f'{temperature_kelvin - 273.15}°C'\n",
    "\n",
    "\n",
    "\n",
    "def convert_temperature(temperature,source_scale,target_scale):\n",
    "    if source_scale == 'Celsius':\n",
    "        return convert_celsius(temperature,target_scale)\n",
    "\n",
    "    if source_scale == 'Fahrenheit':\n",
    "        return convert_fahrenheit(temperature,target_scale)\n",
    "\n",
    "    if source_scale == 'Kelvin':\n",
    "        return convert_kelvin(temperature_kelvin,target_scale)\n",
    "    "
   ]
  }
 ],
 "metadata": {
  "kernelspec": {
   "display_name": "Python 3 (ipykernel)",
   "language": "python",
   "name": "python3"
  },
  "language_info": {
   "codemirror_mode": {
    "name": "ipython",
    "version": 3
   },
   "file_extension": ".py",
   "mimetype": "text/x-python",
   "name": "python",
   "nbconvert_exporter": "python",
   "pygments_lexer": "ipython3",
   "version": "3.12.2"
  },
  "toc": {
   "base_numbering": 1,
   "nav_menu": {},
   "number_sections": true,
   "sideBar": true,
   "skip_h1_title": false,
   "title_cell": "Table of Contents",
   "title_sidebar": "Contents",
   "toc_cell": false,
   "toc_position": {},
   "toc_section_display": true,
   "toc_window_display": false
  },
  "vscode": {
   "interpreter": {
    "hash": "31f2aee4e71d21fbe5cf8b01ff0e069b9275f58929596ceb00d14d90e3e16cd6"
   }
  }
 },
 "nbformat": 4,
 "nbformat_minor": 5
}
