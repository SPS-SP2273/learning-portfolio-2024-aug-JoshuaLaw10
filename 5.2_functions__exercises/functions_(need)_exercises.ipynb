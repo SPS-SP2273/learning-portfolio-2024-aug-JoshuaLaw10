{
 "cells": [
  {
   "attachments": {},
   "cell_type": "markdown",
   "id": "123456",
   "metadata": {},
   "source": [
    "<div style=\"text-align:left;font-size:2em\"><span style=\"font-weight:bolder;font-size:1.25em\">SP2273 | Learning Portfolio</span><br><br><span style=\"font-weight:bold;color:darkred\">Functions (Need) Exercises</span></div>"
   ]
  },
  {
   "cell_type": "markdown",
   "id": "4dfbc37c-d3bb-4de1-91ca-b781ecda02e3",
   "metadata": {},
   "source": [
    "## Exercise 1"
   ]
  },
  {
   "cell_type": "code",
   "execution_count": 28,
   "id": "152f2eb9-0976-413e-9583-da3cdfde002d",
   "metadata": {},
   "outputs": [],
   "source": [
    "def greeting(name):\n",
    "    if name == 'Batman':\n",
    "        return 'Hello Batman! So, nice to meet you!'\n",
    "    return f'Hello {name}!'"
   ]
  },
  {
   "cell_type": "markdown",
   "id": "9e8f4f53-c2df-4007-9364-dbbea47ad867",
   "metadata": {},
   "source": [
    "If the condition is satisfied, it will run the code indented in it, if not it will continue and run the next line of code. This functions like an else statement, except that it runs no matter if the condition is satisfied or not. Compared to the else statement where it only runs if the previous condition(s) is not fulfilled."
   ]
  },
  {
   "cell_type": "markdown",
   "id": "b0782cc8-8c70-40d8-9e68-de964c452cc9",
   "metadata": {},
   "source": [
    "## Exercise 2"
   ]
  },
  {
   "cell_type": "code",
   "execution_count": 29,
   "id": "7b96cf9a-7167-4273-8940-8ef5897e5da7",
   "metadata": {},
   "outputs": [],
   "source": [
    "def calculate_bmi(weight, height):\n",
    "    BMI = weight / (height ** 2)\n",
    "    if BMI < 18.5:\n",
    "        return 'Underweight'\n",
    "    elif BMI < 25:\n",
    "        return 'Normal weight'\n",
    "    elif BMI < 30:\n",
    "        return 'Overweight'\n",
    "    else:\n",
    "        return 'Obese'\n",
    "\n"
   ]
  },
  {
   "cell_type": "markdown",
   "id": "1161a13a-a2c4-4d81-abcc-d9bdee6e4cb0",
   "metadata": {},
   "source": [
    "## Exercise 3"
   ]
  },
  {
   "cell_type": "code",
   "execution_count": 30,
   "id": "3b6d814f-d0c9-4a50-82d9-b84015aa5cd7",
   "metadata": {},
   "outputs": [],
   "source": [
    "def fact(n):\n",
    "    if type(n) == float:\n",
    "        print('I am gracefully asking you to input whole numbers')\n",
    "    elif n == 1:\n",
    "        return 1\n",
    "    elif n < 1:\n",
    "        print('I am gracefully asking you to not input negative numbers')\n",
    "    else:\n",
    "        return fact(n-1) * n\n"
   ]
  }
 ],
 "metadata": {
  "kernelspec": {
   "display_name": "Python 3 (ipykernel)",
   "language": "python",
   "name": "python3"
  },
  "language_info": {
   "codemirror_mode": {
    "name": "ipython",
    "version": 3
   },
   "file_extension": ".py",
   "mimetype": "text/x-python",
   "name": "python",
   "nbconvert_exporter": "python",
   "pygments_lexer": "ipython3",
   "version": "3.12.2"
  },
  "toc": {
   "base_numbering": 1,
   "nav_menu": {},
   "number_sections": true,
   "sideBar": true,
   "skip_h1_title": false,
   "title_cell": "Table of Contents",
   "title_sidebar": "Contents",
   "toc_cell": false,
   "toc_position": {},
   "toc_section_display": true,
   "toc_window_display": false
  },
  "vscode": {
   "interpreter": {
    "hash": "31f2aee4e71d21fbe5cf8b01ff0e069b9275f58929596ceb00d14d90e3e16cd6"
   }
  }
 },
 "nbformat": 4,
 "nbformat_minor": 5
}
