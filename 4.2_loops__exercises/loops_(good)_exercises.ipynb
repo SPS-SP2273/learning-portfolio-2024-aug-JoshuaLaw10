{
 "cells": [
  {
   "attachments": {},
   "cell_type": "markdown",
   "id": "123456",
   "metadata": {},
   "source": [
    "<div style=\"text-align:left;font-size:2em\"><span style=\"font-weight:bolder;font-size:1.25em\">SP2273 | Learning Portfolio</span><br><br><span style=\"font-weight:bold;color:darkred\">Loops (Good) Exercises</span></div>"
   ]
  },
  {
   "cell_type": "markdown",
   "id": "62fc7af7-d2c7-495d-be0b-d46b5f045e7f",
   "metadata": {},
   "source": [
    "## Exercise 1"
   ]
  },
  {
   "cell_type": "code",
   "execution_count": 4,
   "id": "eb28144e-35b9-485f-834e-416c9d743bd8",
   "metadata": {},
   "outputs": [
    {
     "name": "stdout",
     "output_type": "stream",
     "text": [
      "[1, 9, 25, 49, 81]\n"
     ]
    }
   ],
   "source": [
    "mylist = []\n",
    "\n",
    "for number in range(10):\n",
    "    if number % 2 != 0:\n",
    "        mylist.append(number**2)\n",
    "\n",
    "print(mylist)\n",
    "\n",
    "    "
   ]
  },
  {
   "cell_type": "markdown",
   "id": "3b1245c7-daf7-4fa4-902c-c50cf8fa2d4e",
   "metadata": {},
   "source": [
    "## Exercise 2"
   ]
  },
  {
   "cell_type": "code",
   "execution_count": 5,
   "id": "1e492a4a-8235-4c0b-82b9-0e7b1a58f074",
   "metadata": {},
   "outputs": [
    {
     "data": {
      "text/plain": [
       "[1, 9, 25, 49, 81]"
      ]
     },
     "execution_count": 5,
     "metadata": {},
     "output_type": "execute_result"
    }
   ],
   "source": [
    "[number**2 for number in range(10) if number % 2 != 0]"
   ]
  },
  {
   "cell_type": "markdown",
   "id": "d68693a8-963e-4c88-b557-5252a2dc5122",
   "metadata": {},
   "source": [
    "## Exercise 3"
   ]
  },
  {
   "cell_type": "code",
   "execution_count": 78,
   "id": "2df46d5a-e227-4ec4-8d33-239e7c8ba91a",
   "metadata": {},
   "outputs": [
    {
     "name": "stdout",
     "output_type": "stream",
     "text": [
      "486 ns ± 18.1 ns per loop (mean ± std. dev. of 7 runs, 1,000,000 loops each)\n"
     ]
    }
   ],
   "source": [
    "%%timeit\n",
    "\n",
    "[number for number in range(10) if number % 2 != 0]\n",
    "    "
   ]
  },
  {
   "cell_type": "code",
   "execution_count": 79,
   "id": "81f0aaed-7d7d-43c0-b625-699791d7f9bc",
   "metadata": {},
   "outputs": [
    {
     "name": "stdout",
     "output_type": "stream",
     "text": [
      "503 ns ± 8.13 ns per loop (mean ± std. dev. of 7 runs, 1,000,000 loops each)\n"
     ]
    }
   ],
   "source": [
    "%%timeit\n",
    "\n",
    "mylist = []\n",
    "\n",
    "for number in range(10):\n",
    "    if number % 2 == 0:\n",
    "        continue\n",
    "\n",
    "    mylist.append(number)"
   ]
  },
  {
   "cell_type": "markdown",
   "id": "67dd2561-8df1-48de-bdbd-0de672f225aa",
   "metadata": {},
   "source": [
    "## Exercise 4"
   ]
  },
  {
   "cell_type": "code",
   "execution_count": 7,
   "id": "f513b5f4-4144-44ce-804a-10c8b18f0a47",
   "metadata": {},
   "outputs": [
    {
     "name": "stdout",
     "output_type": "stream",
     "text": [
      "14\n"
     ]
    }
   ],
   "source": [
    "initial = 100\n",
    "current = 100\n",
    "years = 0\n",
    "halflife = initial/2\n",
    "\n",
    "while current > halflife:\n",
    "    current *=0.95\n",
    "    years +=1\n",
    "\n",
    "print(years)"
   ]
  },
  {
   "cell_type": "code",
   "execution_count": 11,
   "id": "55a092a3-83f9-40b2-ab4f-1d39c7bd0c32",
   "metadata": {},
   "outputs": [
    {
     "name": "stdout",
     "output_type": "stream",
     "text": [
      "years_elapsed=01, n_current=95.00\n",
      "years_elapsed=02, n_current=90.25\n",
      "years_elapsed=03, n_current=85.74\n",
      "years_elapsed=04, n_current=81.45\n",
      "years_elapsed=05, n_current=77.38\n",
      "years_elapsed=06, n_current=73.51\n",
      "years_elapsed=07, n_current=69.83\n",
      "years_elapsed=08, n_current=66.34\n",
      "years_elapsed=09, n_current=63.02\n",
      "years_elapsed=10, n_current=59.87\n",
      "years_elapsed=11, n_current=56.88\n",
      "years_elapsed=12, n_current=54.04\n",
      "years_elapsed=13, n_current=51.33\n",
      "years_elapsed=14, n_current=48.77\n",
      "14\n"
     ]
    }
   ],
   "source": [
    "# Alternative way\n",
    "\n",
    "n_current, n_initial, years_elapsed = 100, 100, 0\n",
    "\n",
    "\n",
    "while n_current >= n_initial/2:\n",
    "    n_current *= .95\n",
    "    years_elapsed += 1\n",
    "    print(f'{years_elapsed=:02d}, {n_current=:.2f}')\n",
    "\n",
    "print(years_elapsed)"
   ]
  },
  {
   "cell_type": "markdown",
   "id": "c13e7f85-0426-4190-a629-4f45470377e4",
   "metadata": {},
   "source": [
    "## Exercise 5"
   ]
  },
  {
   "cell_type": "code",
   "execution_count": 13,
   "id": "e0619ac8-6552-4791-94c3-b50a81a68cec",
   "metadata": {},
   "outputs": [
    {
     "name": "stdout",
     "output_type": "stream",
     "text": [
      "Between years 2016 and 2015, there was an increase of CO2 of 3.41ppm\n"
     ]
    }
   ],
   "source": [
    "co2_data = [\n",
    "    (2000, 369.55), (2001, 371.14), (2002, 373.28), \n",
    "    (2003, 375.80), (2004, 377.52), (2005, 379.80), \n",
    "    (2006, 381.90), (2007, 383.79), (2008, 385.60), \n",
    "    (2009, 387.43), (2010, 389.90), (2011, 391.65), \n",
    "    (2012, 393.85), (2013, 396.52), (2014, 398.65),\n",
    "    (2015, 400.83), (2016, 404.24), (2017, 406.55), \n",
    "    (2018, 408.52), (2019, 411.44), (2020, 414.24)\n",
    "]\n",
    "\n",
    "\n",
    "termnum = 0\n",
    "nexttermnum = 0\n",
    "\n",
    "for termnum in range(len(co2_data)-1):\n",
    "    \n",
    "    nexttermnum += 1\n",
    "    \n",
    "    co2dif = co2_data[nexttermnum][1] - co2_data[termnum][1]\n",
    "    \n",
    "    if co2dif > 3:\n",
    "         \n",
    "        print(f'Between years {(co2_data[nexttermnum][0])} and {(co2_data[termnum][0])}, there was an increase of CO2 of {co2dif:.2f}ppm')\n",
    "\n",
    "    \n",
    "    \n",
    "    \n",
    "\n",
    "\n",
    "\n",
    "\n"
   ]
  }
 ],
 "metadata": {
  "kernelspec": {
   "display_name": "Python 3 (ipykernel)",
   "language": "python",
   "name": "python3"
  },
  "language_info": {
   "codemirror_mode": {
    "name": "ipython",
    "version": 3
   },
   "file_extension": ".py",
   "mimetype": "text/x-python",
   "name": "python",
   "nbconvert_exporter": "python",
   "pygments_lexer": "ipython3",
   "version": "3.12.2"
  },
  "toc": {
   "base_numbering": 1,
   "nav_menu": {},
   "number_sections": true,
   "sideBar": true,
   "skip_h1_title": false,
   "title_cell": "Table of Contents",
   "title_sidebar": "Contents",
   "toc_cell": false,
   "toc_position": {},
   "toc_section_display": true,
   "toc_window_display": false
  },
  "vscode": {
   "interpreter": {
    "hash": "31f2aee4e71d21fbe5cf8b01ff0e069b9275f58929596ceb00d14d90e3e16cd6"
   }
  }
 },
 "nbformat": 4,
 "nbformat_minor": 5
}
