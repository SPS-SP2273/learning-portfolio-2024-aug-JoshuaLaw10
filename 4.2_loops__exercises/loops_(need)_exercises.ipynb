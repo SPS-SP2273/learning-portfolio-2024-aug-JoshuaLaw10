{
 "cells": [
  {
   "attachments": {},
   "cell_type": "markdown",
   "id": "123456",
   "metadata": {},
   "source": [
    "<div style=\"text-align:left;font-size:2em\"><span style=\"font-weight:bolder;font-size:1.25em\">SP2273 | Learning Portfolio</span><br><br><span style=\"font-weight:bold;color:darkred\">Loops (Need) Exercises</span></div>"
   ]
  },
  {
   "cell_type": "markdown",
   "id": "51e40ee0-32f7-432e-978e-99800be0ac1d",
   "metadata": {},
   "source": [
    "## Exercise 1"
   ]
  },
  {
   "cell_type": "code",
   "execution_count": 10,
   "id": "3a331e1b-52cd-4eea-b8c1-2a833e3955fb",
   "metadata": {},
   "outputs": [
    {
     "name": "stdout",
     "output_type": "stream",
     "text": [
      "0, 32.0\n",
      "5, 41.0\n",
      "10, 50.0\n",
      "15, 59.0\n",
      "20, 68.0\n",
      "25, 77.0\n",
      "30, 86.0\n",
      "35, 95.0\n",
      "40, 104.0\n",
      "45, 113.0\n",
      "50, 122.0\n"
     ]
    }
   ],
   "source": [
    "temperatures_celsius = [\n",
    "    0, 5, 10, 15, 20, 25,\n",
    "    30, 35, 40, 45, 50\n",
    "]\n",
    "\n",
    "for i in temperatures_celsius:\n",
    "    print(f'{i}, {int(i) * 9/5 + 32}')"
   ]
  },
  {
   "cell_type": "markdown",
   "id": "0213fb8b-1ffa-4bd6-b9f4-ab02ef4e329d",
   "metadata": {},
   "source": [
    "## Exercise 2"
   ]
  },
  {
   "cell_type": "code",
   "execution_count": 11,
   "id": "30fe96c0-fba6-49d9-b286-fca2596cde9b",
   "metadata": {},
   "outputs": [
    {
     "name": "stdout",
     "output_type": "stream",
     "text": [
      "A1\tA2\tA3\t\n",
      "\n",
      "B1\tB2\tB3\t\n",
      "\n",
      "C1\tC2\tC3\t\n",
      "\n"
     ]
    }
   ],
   "source": [
    "for letter in ['A', 'B', 'C']:\n",
    "    for number in [1, 2, 3]:\n",
    "        print(f'{letter}{number}', end='\\t')\n",
    "    print('\\n')"
   ]
  },
  {
   "cell_type": "code",
   "execution_count": 42,
   "id": "650b1823-4d89-40ec-979d-b8004436983b",
   "metadata": {},
   "outputs": [
    {
     "name": "stdout",
     "output_type": "stream",
     "text": [
      "1 : 1\t2\t3\t4\t5\t\n",
      "2 : 2\t4\t6\t8\t10\t\n",
      "3 : 3\t6\t9\t12\t15\t\n",
      "4 : 4\t8\t12\t16\t20\t\n",
      "5 : 5\t10\t15\t20\t25\t\n"
     ]
    }
   ],
   "source": [
    "for row in range(1,6):\n",
    "    \n",
    "    print(row, end =' : ')\n",
    "    \n",
    "    for number in range(1,6):\n",
    "        \n",
    "        print(number*row, end ='\\t')\n",
    "        \n",
    "    print()"
   ]
  },
  {
   "cell_type": "markdown",
   "id": "ac6a7943-88d3-404e-bf34-13519b3a4cb7",
   "metadata": {},
   "source": [
    "## Exercise 3"
   ]
  },
  {
   "cell_type": "code",
   "execution_count": 3,
   "id": "ac67d2df-f53c-43c0-ba1a-25529bdbd9f8",
   "metadata": {},
   "outputs": [
    {
     "data": {
      "text/plain": [
       "array([0.80315874, 0.06657603, 0.26357112, 0.65073772, 0.30111781,\n",
       "       0.75604475, 0.62967233, 0.13128411, 0.24247354, 0.73907944])"
      ]
     },
     "execution_count": 3,
     "metadata": {},
     "output_type": "execute_result"
    }
   ],
   "source": [
    "import numpy as np\n",
    "np.random.rand(10)\n"
   ]
  },
  {
   "cell_type": "code",
   "execution_count": 57,
   "id": "77d88145-a6b4-4e3a-90c9-742287bceead",
   "metadata": {},
   "outputs": [
    {
     "name": "stdout",
     "output_type": "stream",
     "text": [
      "Experiment  1: No. of Heads = 3\n",
      "Experiment  2: No. of Heads = 3\n",
      "Experiment  3: No. of Heads = 8\n",
      "Experiment  4: No. of Heads = 5\n",
      "Experiment  5: No. of Heads = 7\n",
      "Experiment  6: No. of Heads = 3\n",
      "Experiment  7: No. of Heads = 3\n",
      "Experiment  8: No. of Heads = 5\n",
      "Experiment  9: No. of Heads = 7\n",
      "Experiment  10: No. of Heads = 5\n"
     ]
    }
   ],
   "source": [
    "for exp in range(10):\n",
    "    arr = np.random.rand(10)\n",
    "    my_mask = arr >= 0.5\n",
    "    narr = arr[my_mask]\n",
    "    no_of_heads = len(narr)\n",
    "    print(f'Experiment  {(exp + 1 ):>.0f}: No. of Heads = {no_of_heads}')\n",
    "    "
   ]
  },
  {
   "cell_type": "code",
   "execution_count": null,
   "id": "bfd08403-cde9-4740-8c9a-81cf9f98c498",
   "metadata": {},
   "outputs": [],
   "source": []
  },
  {
   "cell_type": "code",
   "execution_count": 5,
   "id": "d99de5cd-513a-4c3f-bd88-ec0358347207",
   "metadata": {},
   "outputs": [
    {
     "name": "stdout",
     "output_type": "stream",
     "text": [
      "[False False  True False  True False False  True  True False]\n",
      "Experiment   1: No. of Heads = 4\n",
      "[ True  True False False  True False False False  True  True]\n",
      "Experiment   2: No. of Heads = 5\n",
      "[False  True  True  True  True False  True  True  True False]\n",
      "Experiment   3: No. of Heads = 7\n",
      "[ True False  True False False  True  True False False  True]\n",
      "Experiment   4: No. of Heads = 5\n",
      "[False  True  True  True  True  True False False False False]\n",
      "Experiment   5: No. of Heads = 5\n",
      "[False  True False False False False False False False  True]\n",
      "Experiment   6: No. of Heads = 2\n",
      "[ True  True  True  True  True False  True  True False False]\n",
      "Experiment   7: No. of Heads = 7\n",
      "[False False  True False  True False False False  True  True]\n",
      "Experiment   8: No. of Heads = 4\n",
      "[False  True False False  True  True False  True False  True]\n",
      "Experiment   9: No. of Heads = 5\n",
      "[False  True False False  True False  True  True False  True]\n",
      "Experiment  10: No. of Heads = 5\n"
     ]
    }
   ],
   "source": [
    "# Alternative way\n",
    "\n",
    "for exp_no in range(10):\n",
    "    coin_states = np.random.rand(10)\n",
    "    heads_or_not = coin_states >= .5\n",
    "    no_of_heads = heads_or_not.sum()    #sums how many True there are (True = Heads)\n",
    "    print(f'Experiment  {(exp_no + 1 ):>2d}: No. of Heads = {no_of_heads}')"
   ]
  },
  {
   "cell_type": "code",
   "execution_count": null,
   "id": "6407073d-408f-4a9e-a26a-7bf1328829b4",
   "metadata": {},
   "outputs": [],
   "source": []
  }
 ],
 "metadata": {
  "kernelspec": {
   "display_name": "Python 3 (ipykernel)",
   "language": "python",
   "name": "python3"
  },
  "language_info": {
   "codemirror_mode": {
    "name": "ipython",
    "version": 3
   },
   "file_extension": ".py",
   "mimetype": "text/x-python",
   "name": "python",
   "nbconvert_exporter": "python",
   "pygments_lexer": "ipython3",
   "version": "3.12.2"
  },
  "toc": {
   "base_numbering": 1,
   "nav_menu": {},
   "number_sections": true,
   "sideBar": true,
   "skip_h1_title": false,
   "title_cell": "Table of Contents",
   "title_sidebar": "Contents",
   "toc_cell": false,
   "toc_position": {},
   "toc_section_display": true,
   "toc_window_display": false
  },
  "vscode": {
   "interpreter": {
    "hash": "31f2aee4e71d21fbe5cf8b01ff0e069b9275f58929596ceb00d14d90e3e16cd6"
   }
  }
 },
 "nbformat": 4,
 "nbformat_minor": 5
}
