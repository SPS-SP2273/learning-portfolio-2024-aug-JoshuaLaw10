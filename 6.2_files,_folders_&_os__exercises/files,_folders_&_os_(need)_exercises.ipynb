{
 "cells": [
  {
   "attachments": {},
   "cell_type": "markdown",
   "id": "123456",
   "metadata": {},
   "source": [
    "<div style=\"text-align:left;font-size:2em\"><span style=\"font-weight:bolder;font-size:1.25em\">SP2273 | Learning Portfolio</span><br><br><span style=\"font-weight:bold;color:darkred\">Files, Folders & OS (Need) Exercises</span></div>"
   ]
  },
  {
   "cell_type": "markdown",
   "id": "074e884e-7b86-4886-882f-ea122549e5f4",
   "metadata": {},
   "source": [
    "## Task 1"
   ]
  },
  {
   "cell_type": "code",
   "execution_count": 116,
   "id": "63c98475-ce4c-48d5-ac51-3e8bc897d468",
   "metadata": {},
   "outputs": [
    {
     "data": {
      "text/plain": [
       "'10-08_singapore.txt'"
      ]
     },
     "execution_count": 116,
     "metadata": {},
     "output_type": "execute_result"
    }
   ],
   "source": [
    "months = {\n",
    "'jan': '01', 'feb': '02', 'mar': '03',\n",
    "'apr': '04', 'may': '05', 'jun': '06',\n",
    "'jul': '07', 'aug': '08', 'sep': '09',\n",
    "'oct': '10', 'nov': '11', 'dec': '12'\n",
    "}\n",
    "\n",
    "dictkey = 'oct-08_singapore.txt'[:3]\n",
    "\n",
    "uneditedname = 'oct-08_singapore.txt'[3:]\n",
    "\n",
    "newname = months[dictkey] + uneditedname\n",
    "\n",
    "newname"
   ]
  },
  {
   "cell_type": "markdown",
   "id": "00c1b12f-c3ca-433f-bb8f-1e6cf11970c1",
   "metadata": {},
   "source": [
    "## Task 2"
   ]
  },
  {
   "cell_type": "code",
   "execution_count": 117,
   "id": "c114640f-b05a-4a51-8847-7b102dde7b58",
   "metadata": {},
   "outputs": [],
   "source": [
    "def rename_my_file(old_file_name):\n",
    "\n",
    "    dictkey = old_file_name[:3]\n",
    "    uneditedname = old_file_name[3:]\n",
    "    newname = months[dictkey] + uneditedname\n",
    "\n",
    "    return newname"
   ]
  },
  {
   "cell_type": "markdown",
   "id": "63b81b80-0482-4d6e-8f81-5856936b5408",
   "metadata": {},
   "source": [
    "## Task 3"
   ]
  },
  {
   "cell_type": "code",
   "execution_count": 118,
   "id": "9cb893e1-0a4a-42b4-8057-eb5ed6ca877f",
   "metadata": {},
   "outputs": [
    {
     "name": "stdout",
     "output_type": "stream",
     "text": [
      "oct-08_singapore.txt    --->    10-08_singapore.txt\n",
      "jul-10_cairo.txt    --->    07-10_cairo.txt\n",
      "may-15_dhaka.txt    --->    05-15_dhaka.txt\n",
      "may-13_cairo.txt    --->    05-13_cairo.txt\n",
      "oct-21_cairo.txt    --->    10-21_cairo.txt\n",
      "jan-10_singapore.txt    --->    01-10_singapore.txt\n",
      "jun-20_tokyo.txt    --->    06-20_tokyo.txt\n",
      "aug-06_jakarta.txt    --->    08-06_jakarta.txt\n",
      "dec-21_karachi.txt    --->    12-21_karachi.txt\n",
      "jan-01_tokyo.txt    --->    01-01_tokyo.txt\n"
     ]
    }
   ],
   "source": [
    "mylist = ['oct-08_singapore.txt', 'jul-10_cairo.txt', 'may-15_dhaka.txt',\n",
    " 'may-13_cairo.txt', 'oct-21_cairo.txt', 'jan-10_singapore.txt',\n",
    " 'jun-20_tokyo.txt', 'aug-06_jakarta.txt', 'dec-21_karachi.txt',\n",
    " 'jan-01_tokyo.txt']\n",
    "\n",
    "\n",
    "for name in mylist:\n",
    "    updatedname = rename_my_file(name)\n",
    "\n",
    "    print(f'{name}    {\"--->\"}    {updatedname}')\n",
    "\n",
    "\n"
   ]
  },
  {
   "cell_type": "markdown",
   "id": "844039f2-f4ca-41ef-95db-67c26471b7d8",
   "metadata": {},
   "source": [
    "## Task 4"
   ]
  },
  {
   "cell_type": "code",
   "execution_count": 130,
   "id": "da4e61b4-7879-473b-89e7-eb732c6314d2",
   "metadata": {},
   "outputs": [],
   "source": [
    "import glob\n",
    "import os\n",
    "\n",
    "listoftxt = glob.glob('os-collaboration-exercise-data/*')    # if use ('*/*')goes into any folder (*), then extracts out all the info in that folder(second *)\n",
    "                                                             # 'os-collaboration-exercise-data/*' means look into this file and extract all\n",
    "\n",
    "txtlist = []\n",
    "\n",
    "for txt in listoftxt:\n",
    "    txt = txt.replace('os-collaboration-exercise-data/','')\n",
    "    txtlist+=[rename_my_file(txt)]\n",
    "\n",
    "\n"
   ]
  },
  {
   "cell_type": "markdown",
   "id": "91d0870e-1bca-436c-9b5e-8d84e8cebc03",
   "metadata": {},
   "source": [
    "## Task 5"
   ]
  },
  {
   "cell_type": "code",
   "execution_count": 120,
   "id": "7e892a56-b3bb-4678-91b6-7f04651223ff",
   "metadata": {},
   "outputs": [],
   "source": [
    "cities = ['Cairo', 'Dhaka', 'Jakarta', 'Karachi', 'Manila',\n",
    " 'Melbourne', 'Osaka', 'Shanghai', 'Singapore', 'Tokyo']"
   ]
  },
  {
   "cell_type": "code",
   "execution_count": 121,
   "id": "907be0c0-042a-4ed3-a391-e7aa58224f32",
   "metadata": {},
   "outputs": [],
   "source": [
    "import shutil\n",
    "\n",
    "if not os.path.exists('Cities'):\n",
    "    os.mkdir('Cities')\n",
    "\n",
    "for city in cities:\n",
    "    path = os.path.join('Cities',city)\n",
    "    if not os.path.exists(path):\n",
    "        os.mkdir(path)\n"
   ]
  },
  {
   "cell_type": "markdown",
   "id": "4bbcde36-9e28-4a25-9b44-efef99aad2c9",
   "metadata": {},
   "source": [
    "## Task 6"
   ]
  },
  {
   "cell_type": "code",
   "execution_count": 122,
   "id": "d9996df9-0067-422d-b220-e889f44e8731",
   "metadata": {},
   "outputs": [],
   "source": [
    "dircairotxt = glob.glob('os-collaboration-exercise-data/*cairo*')\n",
    "\n",
    "for txt in dircairotxt:\n",
    "    \n",
    "    currentpath = txt\n",
    "    txtname = txt.replace('os-collaboration-exercise-data/','')\n",
    "    newpath = os.path.join('Cities', 'Cairo',txtname)\n",
    "\n",
    "    shutil.move(currentpath, newpath)\n",
    "\n",
    "    \n"
   ]
  },
  {
   "cell_type": "markdown",
   "id": "ce7f4f36-89af-437d-89d8-a6a9fca039f0",
   "metadata": {},
   "source": [
    "## Task 7"
   ]
  },
  {
   "cell_type": "code",
   "execution_count": 129,
   "id": "9ba6d399-9c6f-4b44-8495-da8320ee2312",
   "metadata": {},
   "outputs": [],
   "source": [
    "for city in cities:              #city names\n",
    "    citylower = city.lower()\n",
    "    \n",
    "    for dirtxt in listoftxt:        #check for which city the txt belongs\n",
    "                               \n",
    "        if citylower in dirtxt:          #check if 'cairo' in  '07-13_cairo.png'\n",
    "\n",
    "            txt = dirtxt.replace('os-collaboration-exercise-data/','')\n",
    "            \n",
    "            changedpath = os.path.join('Cities', city, txt)\n",
    "            \n",
    "            if not os.path.exists(changedpath):\n",
    "                \n",
    "                currentpath = os.path.join(dirtxt)          # listoftxt is the dir for all the txt since i used glob\n",
    "                newpath = os.path.join('Cities',city)\n",
    "\n",
    "                shutil.move(currentpath, newpath)"
   ]
  }
 ],
 "metadata": {
  "kernelspec": {
   "display_name": "Python 3 (ipykernel)",
   "language": "python",
   "name": "python3"
  },
  "language_info": {
   "codemirror_mode": {
    "name": "ipython",
    "version": 3
   },
   "file_extension": ".py",
   "mimetype": "text/x-python",
   "name": "python",
   "nbconvert_exporter": "python",
   "pygments_lexer": "ipython3",
   "version": "3.12.2"
  },
  "toc": {
   "base_numbering": 1,
   "nav_menu": {},
   "number_sections": true,
   "sideBar": true,
   "skip_h1_title": false,
   "title_cell": "Table of Contents",
   "title_sidebar": "Contents",
   "toc_cell": false,
   "toc_position": {},
   "toc_section_display": true,
   "toc_window_display": false
  },
  "vscode": {
   "interpreter": {
    "hash": "31f2aee4e71d21fbe5cf8b01ff0e069b9275f58929596ceb00d14d90e3e16cd6"
   }
  }
 },
 "nbformat": 4,
 "nbformat_minor": 5
}
