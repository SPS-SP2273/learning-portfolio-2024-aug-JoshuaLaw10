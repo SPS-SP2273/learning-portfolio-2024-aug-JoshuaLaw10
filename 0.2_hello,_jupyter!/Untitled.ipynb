{
 "cells": [
  {
   "cell_type": "code",
   "execution_count": 23,
   "id": "49899cbe-ef76-48fe-ace3-6a605d7b61ec",
   "metadata": {},
   "outputs": [
    {
     "name": "stdout",
     "output_type": "stream",
     "text": [
      "Hello World!\n"
     ]
    }
   ],
   "source": [
    "print('Hello World!')"
   ]
  },
  {
   "cell_type": "markdown",
   "id": "9871d5cf-3e2b-4658-827f-c14e8577c4d2",
   "metadata": {},
   "source": [
    "#No space is like that\n",
    "\n",
    "# Needs a space\n",
    "\n",
    "## This is for headers\n",
    "\n",
    "### and it is bolded and bigger\n",
    "\n",
    "The **ships** hung in the *sky* in much the same way that bricks don’t.\n",
    "\n",
    "```python\n",
    "print('Hello World!')\n",
    "```\n",
    "\n",
    "# Equation\n",
    "\n",
    "$$\\int f(x) dx$$\n",
    "\n",
    "# Links\n",
    "\n",
    "[SP2273 Website](https://sps.nus.edu.sg/sp2273)\n",
    "\n",
    "# Images\n",
    "\n",
    "![](https://nus.edu.sg/images/default-source/base/logo.png)\n",
    "\n",
    "\n"
   ]
  },
  {
   "cell_type": "code",
   "execution_count": null,
   "id": "f4ad2396-23c1-48c3-a41f-196a3e84f9e1",
   "metadata": {},
   "outputs": [],
   "source": []
  }
 ],
 "metadata": {
  "kernelspec": {
   "display_name": "Python 3 (ipykernel)",
   "language": "python",
   "name": "python3"
  },
  "language_info": {
   "codemirror_mode": {
    "name": "ipython",
    "version": 3
   },
   "file_extension": ".py",
   "mimetype": "text/x-python",
   "name": "python",
   "nbconvert_exporter": "python",
   "pygments_lexer": "ipython3",
   "version": "3.12.2"
  }
 },
 "nbformat": 4,
 "nbformat_minor": 5
}
