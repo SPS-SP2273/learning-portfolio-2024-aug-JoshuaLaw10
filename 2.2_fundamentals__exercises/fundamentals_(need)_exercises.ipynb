{
 "cells": [
  {
   "attachments": {},
   "cell_type": "markdown",
   "id": "123456",
   "metadata": {},
   "source": [
    "<div style=\"text-align:left;font-size:2em\"><span style=\"font-weight:bolder;font-size:1.25em\">SP2273 | Learning Portfolio</span><br><br><span style=\"font-weight:bold;color:darkred\">Fundamentals (Need) Exercises</span></div>"
   ]
  },
  {
   "cell_type": "markdown",
   "id": "8ed239cb-854a-40e2-8da9-4d373bab928c",
   "metadata": {},
   "source": [
    "## Exercise 1"
   ]
  },
  {
   "cell_type": "markdown",
   "id": "75e08a64-944a-4d7d-8e35-c7d2b85a5835",
   "metadata": {},
   "source": [
    "print()"
   ]
  },
  {
   "cell_type": "code",
   "execution_count": null,
   "id": "0206beb5-c86e-4b7b-8567-e2f57ba7f130",
   "metadata": {},
   "outputs": [],
   "source": []
  },
  {
   "cell_type": "markdown",
   "id": "98569b09-cf01-494d-97d1-1bac3c92782b",
   "metadata": {},
   "source": [
    "## Exercise 2"
   ]
  },
  {
   "cell_type": "code",
   "execution_count": 18,
   "id": "0aad90d9-22bc-48cc-b804-7458e4b26cd4",
   "metadata": {},
   "outputs": [
    {
     "name": "stdout",
     "output_type": "stream",
     "text": [
      "3 4 4.69041575982343\n"
     ]
    }
   ],
   "source": [
    "x, y = 3, 4\n",
    "z = (x*2 + y**2)**0.5\n",
    "print(x, y, z)"
   ]
  },
  {
   "cell_type": "markdown",
   "id": "ee40870a-4d3b-4cb2-bed5-30db8133bbf0",
   "metadata": {},
   "source": [
    "## Exercise 3"
   ]
  },
  {
   "cell_type": "markdown",
   "id": "340ecd2d-dca9-4c39-ae48-ea0fc2480d80",
   "metadata": {},
   "source": [
    "|#|Term|Discription|\n",
    "|:-:|:-|:-:|\n",
    "|1|Function|It is a set of code that that takes in inputs, then does runs a set code on it and returns on output|\n",
    "|2|Arguments|It is the input used in functions|\n",
    "|3|Comments|It is just words that are there as instructions of thinking but are not part of the code as the computer will ignore it|\n",
    "|4|Indentations|It is to group codes together when they are related so that when they are, the following codes are indented to run in relation to the above line, and it also seperates code that are not related.|\n",
    "|5|Packages|They are libraries with existing functions made by other that are put online such that it can be install and the functions can be ran to do task without having to code for it.|\n",
    "|6|.|It is a function to alter an argument before i.t|\n",
    "|7|:|It is to give a condition before running the later codes indented below it.|\n",
    "|8|[]|An empty list.|\n",
    "|9|[[],[]]|A list of 2 objects, which are both empty lists.|\n",
    "|10|{}|An empty dictionary.|\n",
    "\n",
    "\n",
    "\n",
    "\n"
   ]
  },
  {
   "cell_type": "markdown",
   "id": "943de1b4-9461-4d10-acea-68ca99d0044f",
   "metadata": {},
   "source": [
    "## Exercise 4"
   ]
  },
  {
   "cell_type": "code",
   "execution_count": 19,
   "id": "5bdf4c1c-a91e-4fb8-ae30-9d5ccd18cde7",
   "metadata": {},
   "outputs": [
    {
     "data": {
      "text/plain": [
       "2.5"
      ]
     },
     "execution_count": 19,
     "metadata": {},
     "output_type": "execute_result"
    }
   ],
   "source": [
    "5/2           #Division and gives a float"
   ]
  },
  {
   "cell_type": "code",
   "execution_count": 20,
   "id": "eb9c36f5-b381-4f2c-b054-ca71d18a3d7c",
   "metadata": {},
   "outputs": [
    {
     "data": {
      "text/plain": [
       "2"
      ]
     },
     "execution_count": 20,
     "metadata": {},
     "output_type": "execute_result"
    }
   ],
   "source": [
    "5//2          # Floor division, divides and rounds down to an integer"
   ]
  },
  {
   "cell_type": "code",
   "execution_count": null,
   "id": "9df348ca-7576-4090-a620-5131827d7e46",
   "metadata": {},
   "outputs": [],
   "source": [
    "5%2           # Modulo, Gives the positive numerical remainder"
   ]
  }
 ],
 "metadata": {
  "kernelspec": {
   "display_name": "Python 3 (ipykernel)",
   "language": "python",
   "name": "python3"
  },
  "language_info": {
   "codemirror_mode": {
    "name": "ipython",
    "version": 3
   },
   "file_extension": ".py",
   "mimetype": "text/x-python",
   "name": "python",
   "nbconvert_exporter": "python",
   "pygments_lexer": "ipython3",
   "version": "3.12.2"
  },
  "toc": {
   "base_numbering": 1,
   "nav_menu": {},
   "number_sections": true,
   "sideBar": true,
   "skip_h1_title": false,
   "title_cell": "Table of Contents",
   "title_sidebar": "Contents",
   "toc_cell": false,
   "toc_position": {},
   "toc_section_display": true,
   "toc_window_display": false
  },
  "vscode": {
   "interpreter": {
    "hash": "31f2aee4e71d21fbe5cf8b01ff0e069b9275f58929596ceb00d14d90e3e16cd6"
   }
  }
 },
 "nbformat": 4,
 "nbformat_minor": 5
}
