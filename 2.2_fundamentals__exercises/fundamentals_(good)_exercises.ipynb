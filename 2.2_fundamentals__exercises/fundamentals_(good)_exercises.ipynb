{
 "cells": [
  {
   "attachments": {},
   "cell_type": "markdown",
   "id": "123456",
   "metadata": {},
   "source": [
    "<div style=\"text-align:left;font-size:2em\"><span style=\"font-weight:bolder;font-size:1.25em\">SP2273 | Learning Portfolio</span><br><br><span style=\"font-weight:bold;color:darkred\">Fundamentals (Good) Exercises</span></div>"
   ]
  },
  {
   "cell_type": "markdown",
   "id": "7d4f64df-7974-4510-807a-14abcfaf70c1",
   "metadata": {},
   "source": [
    "## Example 1"
   ]
  },
  {
   "cell_type": "code",
   "execution_count": 1,
   "id": "ee1d1768-a8c2-48c3-9d58-8cc5f567d5fc",
   "metadata": {},
   "outputs": [
    {
     "name": "stdin",
     "output_type": "stream",
     "text": [
      "Please provide me with a number? 1\n"
     ]
    },
    {
     "name": "stdout",
     "output_type": "stream",
     "text": [
      "You entered 1\n"
     ]
    }
   ],
   "source": [
    "user_input = input('Please provide me with a number?')\n",
    "print('You entered', user_input)"
   ]
  },
  {
   "cell_type": "markdown",
   "id": "c90a1473-d32b-4cde-8daf-ada93e767894",
   "metadata": {},
   "source": [
    "## Task 1"
   ]
  },
  {
   "cell_type": "code",
   "execution_count": 12,
   "id": "67ddca96-6ae6-4481-acb3-e75348d6a72a",
   "metadata": {},
   "outputs": [
    {
     "name": "stdin",
     "output_type": "stream",
     "text": [
      "What is your name? a\n"
     ]
    },
    {
     "name": "stdout",
     "output_type": "stream",
     "text": [
      "\"How you doin a!\"\n"
     ]
    }
   ],
   "source": [
    "name = input('What is your name?').upper()\n",
    "\n",
    "print(f'\"How you doin {name}!\"')"
   ]
  },
  {
   "cell_type": "markdown",
   "id": "f7fac822-d88a-4eb0-84bf-c40e4617ccf3",
   "metadata": {},
   "source": [
    "## Task 2"
   ]
  },
  {
   "cell_type": "code",
   "execution_count": 33,
   "id": "6cfefb48-3575-4378-8e7b-8ba5dbd50909",
   "metadata": {},
   "outputs": [
    {
     "name": "stdin",
     "output_type": "stream",
     "text": [
      "What is your name? Joshua\n",
      "What is your age? 23567\n"
     ]
    },
    {
     "name": "stdout",
     "output_type": "stream",
     "text": [
      "“My name is JOSHUA and I am 23567 years old.”\n"
     ]
    }
   ],
   "source": [
    "name = input('What is your name?').upper()\n",
    "\n",
    "age = input('What is your age?').upper()\n",
    "\n",
    "print(f'“My name is {name} and I am {age} years old.”')"
   ]
  },
  {
   "cell_type": "markdown",
   "id": "c5dbfc65-d543-4e7d-a66d-ed5961766d9e",
   "metadata": {},
   "source": [
    "## Task 3"
   ]
  },
  {
   "cell_type": "code",
   "execution_count": 23,
   "id": "e3c36ed9-6fe3-409f-a918-c0c7005bb86c",
   "metadata": {},
   "outputs": [
    {
     "name": "stdout",
     "output_type": "stream",
     "text": [
      "The value of pi to 2 decimal places is: 3.14\n",
      "The value of pi to 3 decimal places is: 3.142\n",
      "The value of pi to 4 decimal places is: 3.1416\n"
     ]
    }
   ],
   "source": [
    "from math import pi\n",
    "\n",
    "for a in range(2,5):\n",
    "    print(f'The value of pi to {a} decimal places is: {pi:.{a}f}')\n"
   ]
  },
  {
   "cell_type": "markdown",
   "id": "fbef965a-5826-4226-8375-cc85310c763d",
   "metadata": {},
   "source": [
    "## Task 4"
   ]
  },
  {
   "cell_type": "code",
   "execution_count": 36,
   "id": "a7384c32-7da2-4d26-a672-4b6f18ebfeb8",
   "metadata": {},
   "outputs": [
    {
     "name": "stdout",
     "output_type": "stream",
     "text": [
      "Apple      $ 0.99\n",
      "Banana     $ 0.59\n",
      "Orange     $ 1.29\n"
     ]
    }
   ],
   "source": [
    "print(f'{'Apple':<10.5s} ${0.99:>5.2f}')\n",
    "print(f'{'Banana':<10.6s} ${0.59:>5.2f}')\n",
    "print(f'{'Orange':<10.6s} ${1.29:>5.2f}')"
   ]
  },
  {
   "cell_type": "markdown",
   "id": "934fcd9d-84a6-4d80-bb94-8d5fb70d2446",
   "metadata": {},
   "source": [
    "## Exercise 2"
   ]
  },
  {
   "cell_type": "code",
   "execution_count": 53,
   "id": "bc2b2ab3-ae1d-4be8-9e56-3b401ec84e7f",
   "metadata": {},
   "outputs": [
    {
     "name": "stdin",
     "output_type": "stream",
     "text": [
      "Enter the student's score: 100\n"
     ]
    },
    {
     "name": "stdout",
     "output_type": "stream",
     "text": [
      "The student's letter grade is: A\n"
     ]
    }
   ],
   "source": [
    "score = int(input('Enter the student\\'s score:'))\n",
    "\n",
    "if 70 <= score <= 100:\n",
    "    grade = 'A'\n",
    "\n",
    "elif 50 <= score <= 69:\n",
    "    grade = 'B'\n",
    "\n",
    "elif 35 <= score <= 49:\n",
    "    grade = 'C'\n",
    "\n",
    "elif 0 <= score <= 34:\n",
    "    grade = 'Fail'\n",
    "\n",
    "else:\n",
    "    print('Please enter a number from 0 to 100')\n",
    "    \n",
    "\n",
    "\n",
    "\n",
    "if 0 <= score <= 100:\n",
    "        print(f'The student\\'s letter grade is: {grade}')\n"
   ]
  },
  {
   "cell_type": "markdown",
   "id": "58be3fdb-e2b2-4e6a-a3f5-fc3a43cfcaf6",
   "metadata": {},
   "source": [
    "## Exercise 3"
   ]
  },
  {
   "cell_type": "code",
   "execution_count": 55,
   "id": "8e1c34b4-829b-4278-aa6c-e5eebd6bdee5",
   "metadata": {},
   "outputs": [
    {
     "name": "stdout",
     "output_type": "stream",
     "text": [
      "120\n",
      "Invalid input\n"
     ]
    }
   ],
   "source": [
    "def factorial(n):\n",
    "    if n < 0:\n",
    "        return \"Invalid input\"\n",
    "    elif n == 0:\n",
    "        return 1\n",
    "    else:\n",
    "        result = 1\n",
    "        for number in range(1, n+1):\n",
    "            result *= number\n",
    "        return result\n",
    "\n",
    "\n",
    "print(factorial(5))   # Testing, expected output: 120\n",
    "print(factorial(-1))  # Testing, expected output: Invalid input"
   ]
  },
  {
   "cell_type": "code",
   "execution_count": null,
   "id": "9c5824aa-9a8a-404b-8a0c-8ba8bf7ef068",
   "metadata": {},
   "outputs": [],
   "source": []
  }
 ],
 "metadata": {
  "kernelspec": {
   "display_name": "Python 3 (ipykernel)",
   "language": "python",
   "name": "python3"
  },
  "language_info": {
   "codemirror_mode": {
    "name": "ipython",
    "version": 3
   },
   "file_extension": ".py",
   "mimetype": "text/x-python",
   "name": "python",
   "nbconvert_exporter": "python",
   "pygments_lexer": "ipython3",
   "version": "3.12.2"
  },
  "toc": {
   "base_numbering": 1,
   "nav_menu": {},
   "number_sections": true,
   "sideBar": true,
   "skip_h1_title": false,
   "title_cell": "Table of Contents",
   "title_sidebar": "Contents",
   "toc_cell": false,
   "toc_position": {},
   "toc_section_display": true,
   "toc_window_display": false
  },
  "vscode": {
   "interpreter": {
    "hash": "31f2aee4e71d21fbe5cf8b01ff0e069b9275f58929596ceb00d14d90e3e16cd6"
   }
  }
 },
 "nbformat": 4,
 "nbformat_minor": 5
}
