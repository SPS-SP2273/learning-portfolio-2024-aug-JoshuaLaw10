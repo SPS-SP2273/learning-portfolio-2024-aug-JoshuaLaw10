{
 "cells": [
  {
   "attachments": {},
   "cell_type": "markdown",
   "id": "123456",
   "metadata": {},
   "source": [
    "<div style=\"text-align:left;font-size:2em\"><span style=\"font-weight:bolder;font-size:1.25em\">SP2273 | Learning Portfolio</span><br><br><span style=\"font-weight:bold;color:darkred\">Storing Data (Need)</span></div>"
   ]
  },
  {
   "attachments": {},
   "cell_type": "markdown",
   "id": "7e852ca1",
   "metadata": {},
   "source": [
    "# What to expect in this chapter"
   ]
  },
  {
   "attachments": {},
   "cell_type": "markdown",
   "id": "8f5bf454",
   "metadata": {},
   "source": [
    "# 1 Lists, Arrays & Dictionaries"
   ]
  },
  {
   "attachments": {},
   "cell_type": "markdown",
   "id": "85754f1e",
   "metadata": {},
   "source": [
    "## 1.1 Let’s compare"
   ]
  },
  {
   "cell_type": "markdown",
   "id": "33ba0bde-3df3-4a79-94e0-b28946d85e57",
   "metadata": {},
   "source": [
    "- Dictionaries use a key and an associated value separated by a :\n",
    "- The dictionary very elegantly holds the real and superhero names in one structure while we need two lists (or arrays) for the same data.\n",
    "- For lists and arrays, the order matters. I.e. ‘Iron Man’ must be in the same position as ‘Tony Stark’ for things to work."
   ]
  },
  {
   "attachments": {},
   "cell_type": "markdown",
   "id": "234dc75e",
   "metadata": {},
   "source": [
    "## 1.2 Accessing data from a list (or array)"
   ]
  },
  {
   "cell_type": "markdown",
   "id": "931adc81-2e23-4784-b4e1-8e6502c96887",
   "metadata": {},
   "source": [
    "lists/arrays start counting from 0"
   ]
  },
  {
   "cell_type": "code",
   "execution_count": null,
   "id": "ebc2687e-26ab-4ef0-9b2d-f5881dc67d9b",
   "metadata": {},
   "outputs": [],
   "source": [
    "py_super_names = [\"Black Widow\", \"Iron Man\", \"Doctor Strange\"]\n",
    "py_real_names = [\"Natasha Romanoff\", \"Tony Stark\", \"Stephen Strange\"]"
   ]
  },
  {
   "cell_type": "code",
   "execution_count": null,
   "id": "cbc9de75-5c9f-4928-80cf-f46ad24f4ba1",
   "metadata": {},
   "outputs": [],
   "source": [
    "py_real_names[0]"
   ]
  },
  {
   "cell_type": "code",
   "execution_count": null,
   "id": "c081d7f2-70a2-4948-9f68-bdbe2debd652",
   "metadata": {},
   "outputs": [],
   "source": [
    "py_super_names[0]"
   ]
  },
  {
   "cell_type": "markdown",
   "id": "f8edd0fd-5e1b-4dcb-8819-07988e57a988",
   "metadata": {},
   "source": [
    "Using a negative index allows us to count from the back of the list. For instance, using the index -1 will give the last element. This is super useful because we can easily access the last element without knowing the list size."
   ]
  },
  {
   "cell_type": "code",
   "execution_count": null,
   "id": "a4700b56-77e3-4bab-988e-c48102fdfaeb",
   "metadata": {},
   "outputs": [],
   "source": [
    "py_super_names[2]    # Forward indexing \n",
    "                     # We need to know the size \n",
    "                     # beforehand for this to work."
   ]
  },
  {
   "cell_type": "code",
   "execution_count": null,
   "id": "3a3da01f-859f-4f33-97e0-fb75fc6f5827",
   "metadata": {},
   "outputs": [],
   "source": [
    "py_super_names[-1]   # Reverse indexing"
   ]
  },
  {
   "attachments": {},
   "cell_type": "markdown",
   "id": "bbed13d5",
   "metadata": {},
   "source": [
    "## 1.3 Accessing data from a dictionary"
   ]
  },
  {
   "cell_type": "markdown",
   "id": "db906a65-878f-4eb2-802f-9e6d6d5ac2b8",
   "metadata": {},
   "source": [
    "Dictionaries hold data (values) paired with a key. i.e. you can access the value (in this case, the superhero name) using the real name as a key."
   ]
  },
  {
   "cell_type": "code",
   "execution_count": null,
   "id": "0086f4aa-2ea9-462b-b649-aae1ae83a946",
   "metadata": {},
   "outputs": [],
   "source": [
    "superhero_info = {\n",
    "    \"Natasha Romanoff\": \"Black Widow\",\n",
    "    \"Tony Stark\": \"Iron Man\",\n",
    "    \"Stephen Strange\": \"Doctor Strange\",\n",
    "    'Tony Stark' : 'Man'  ## if u write another key it will overwrite the previous value\n",
    "    \n",
    "}                  \n",
    "\n",
    "# dict use key to find value but not the other way around"
   ]
  },
  {
   "cell_type": "code",
   "execution_count": null,
   "id": "3d96b905-1dee-4166-a4c8-6c77eefaaa4c",
   "metadata": {},
   "outputs": [],
   "source": [
    "superhero_info['Tony Stark']"
   ]
  },
  {
   "cell_type": "code",
   "execution_count": null,
   "id": "564c0c77-e766-4a2f-a827-9f5b69bdcf61",
   "metadata": {},
   "outputs": [],
   "source": [
    "superhero_info[\"Natasha Romanoff\"]"
   ]
  },
  {
   "cell_type": "code",
   "execution_count": null,
   "id": "3ef4dc57-9c0f-485e-82b5-e51055642cd9",
   "metadata": {},
   "outputs": [],
   "source": [
    "superhero_info.keys()"
   ]
  },
  {
   "cell_type": "code",
   "execution_count": null,
   "id": "7d7b2251-ff88-43d4-87c6-1e620a1c96a3",
   "metadata": {},
   "outputs": [],
   "source": [
    "superhero_info.values()"
   ]
  },
  {
   "attachments": {},
   "cell_type": "markdown",
   "id": "2220ac4d",
   "metadata": {},
   "source": [
    "## 1.4 Higher dimensional lists"
   ]
  },
  {
   "cell_type": "code",
   "execution_count": null,
   "id": "d0532d3b-b1e8-45ce-b60f-c584a668facc",
   "metadata": {},
   "outputs": [],
   "source": [
    "py_superhero_info = [['Natasha Romanoff', 'Black Widow'],\n",
    "                     ['Tony Stark', 'Iron Man'],\n",
    "                     ['Stephen Strange', 'Doctor Strange']]"
   ]
  },
  {
   "attachments": {},
   "cell_type": "markdown",
   "id": "4fb01aa4",
   "metadata": {},
   "source": [
    "# 2 Lists vs. Arrays"
   ]
  },
  {
   "attachments": {},
   "cell_type": "markdown",
   "id": "91288062",
   "metadata": {},
   "source": [
    "## 2.1 Size"
   ]
  },
  {
   "cell_type": "code",
   "execution_count": null,
   "id": "4ab9ce87-37bc-4e07-8a07-d9e66a4d24d4",
   "metadata": {},
   "outputs": [],
   "source": [
    "import numpy as np\n",
    "py_list_2d = [[1, \"A\"], [2, \"B\"], [3, \"C\"], [4, \"D\"],\n",
    "              [5, \"E\"], [6, \"F\"], [7, \"G\"], [8, \"H\"],\n",
    "              [9, \"I\"], [10, \"J\"]]\n",
    "\n",
    "np_array_2d = np.array(py_list_2d)      # Reusing the Python list \n",
    "                                        # to create a NEW\n",
    "                                        # NumPy array"
   ]
  },
  {
   "cell_type": "code",
   "execution_count": null,
   "id": "15112cb9-367e-4773-80a6-8da159c22108",
   "metadata": {},
   "outputs": [],
   "source": [
    "len(py_list_2d)\n"
   ]
  },
  {
   "cell_type": "code",
   "execution_count": null,
   "id": "a98b663f-23f7-4bb3-80fa-87325fbaf562",
   "metadata": {},
   "outputs": [],
   "source": [
    "len(np_array_2d)"
   ]
  },
  {
   "cell_type": "code",
   "execution_count": null,
   "id": "f47f5304-a682-4e4d-9bd9-9eefa7df111d",
   "metadata": {},
   "outputs": [],
   "source": [
    "np_array_2d.shape ## no () as it is an attribute of the array"
   ]
  },
  {
   "cell_type": "code",
   "execution_count": null,
   "id": "0a1f2314-0857-4a5f-96f5-a80cfc1dea50",
   "metadata": {},
   "outputs": [],
   "source": [
    "\"hahha\".upper() ## has () as upper is a function and does some code in the back\n"
   ]
  },
  {
   "attachments": {},
   "cell_type": "markdown",
   "id": "265c1f95",
   "metadata": {},
   "source": [
    "## 2.2 Arrays are fussy about type"
   ]
  },
  {
   "cell_type": "code",
   "execution_count": null,
   "id": "aeae847e-1c4b-41a7-a53a-124ec529778a",
   "metadata": {},
   "outputs": [],
   "source": [
    "py_list = [1, 1.5, 'A']\n",
    "np_array = np.array(py_list)"
   ]
  },
  {
   "cell_type": "code",
   "execution_count": null,
   "id": "047599bd-3815-47aa-a83a-cd94488638e2",
   "metadata": {},
   "outputs": [],
   "source": [
    "py_list"
   ]
  },
  {
   "cell_type": "code",
   "execution_count": null,
   "id": "645126be-0410-443d-8e56-4cd1d14e1096",
   "metadata": {},
   "outputs": [],
   "source": [
    "np_array   ## array will force you to only have 1 type"
   ]
  },
  {
   "cell_type": "code",
   "execution_count": null,
   "id": "f5a36917-8f93-4cc1-a032-4f02c6423f45",
   "metadata": {},
   "outputs": [],
   "source": [
    "np_array_2d  ## also complains, converts int to str"
   ]
  },
  {
   "attachments": {},
   "cell_type": "markdown",
   "id": "5f269bbe",
   "metadata": {},
   "source": [
    "## 2.3 Adding a number"
   ]
  },
  {
   "cell_type": "code",
   "execution_count": null,
   "id": "76be07c4-000c-47cb-ba9d-e2bfc5161e45",
   "metadata": {},
   "outputs": [],
   "source": [
    "py_list = [1, 2, 3, 4, 5]\n",
    "np_array = np.array(py_list)         # Reusing the Python list\n",
    "                                     # to create a NEW\n",
    "                                     # NumPy array"
   ]
  },
  {
   "cell_type": "code",
   "execution_count": null,
   "id": "67d60bbc-c5bb-4680-92f8-1f1f0eb3b00a",
   "metadata": {},
   "outputs": [],
   "source": [
    "np_array + 10"
   ]
  },
  {
   "cell_type": "code",
   "execution_count": null,
   "id": "681b2f3a-99c7-4e81-a7a3-96d8274535e1",
   "metadata": {},
   "outputs": [],
   "source": [
    "py_list + 10        # Won't work!"
   ]
  },
  {
   "cell_type": "markdown",
   "id": "8a67352a-a013-4603-9f60-bb1c20f3229a",
   "metadata": {
    "jp-MarkdownHeadingCollapsed": true
   },
   "source": [
    "### **For arrays its an element operation, does on each element**"
   ]
  },
  {
   "cell_type": "markdown",
   "id": "adbdc3f1-ba95-4272-830a-ba9981fc84f8",
   "metadata": {},
   "source": [
    "### **For lists, its a list wide operation, does on the whole list**"
   ]
  },
  {
   "attachments": {},
   "cell_type": "markdown",
   "id": "fdcee1c6",
   "metadata": {},
   "source": [
    "## 2.4 Adding another list"
   ]
  },
  {
   "cell_type": "code",
   "execution_count": null,
   "id": "839dc8f6-2c8a-41d5-a254-a2fb3aafe97f",
   "metadata": {},
   "outputs": [],
   "source": [
    "py_list + [10]"
   ]
  },
  {
   "attachments": {},
   "cell_type": "markdown",
   "id": "42bf1ba3",
   "metadata": {},
   "source": [
    "## 2.5 Multiplying by a Number"
   ]
  },
  {
   "cell_type": "code",
   "execution_count": null,
   "id": "c88add4e-33ed-4259-b75f-8d7df6a7b401",
   "metadata": {},
   "outputs": [],
   "source": [
    "py_list * [10]  #wont' work"
   ]
  },
  {
   "cell_type": "code",
   "execution_count": null,
   "id": "2d07092a-e66c-4773-9206-509b0c0331b6",
   "metadata": {},
   "outputs": [],
   "source": [
    "np_array * 10"
   ]
  },
  {
   "cell_type": "code",
   "execution_count": null,
   "id": "777016d2-3489-4f16-bb36-df130146551a",
   "metadata": {},
   "outputs": [],
   "source": [
    "[1,2] * 10 # muliplying means make it longer"
   ]
  },
  {
   "attachments": {},
   "cell_type": "markdown",
   "id": "f27a2d8c",
   "metadata": {},
   "source": [
    "## 2.6 Squaring"
   ]
  },
  {
   "cell_type": "code",
   "execution_count": null,
   "id": "4774b93f-84dd-4100-a379-fd699d7567b0",
   "metadata": {},
   "outputs": [],
   "source": [
    "py_list = [1, 2, 3, 4, 5]\n",
    "np_array = np.array(py_list)\n"
   ]
  },
  {
   "cell_type": "code",
   "execution_count": null,
   "id": "12660895-7dce-4648-8a4d-0b66ddb864e7",
   "metadata": {},
   "outputs": [],
   "source": [
    "py_list**2                      # Won't work!  "
   ]
  },
  {
   "cell_type": "code",
   "execution_count": null,
   "id": "7af6f566-dbb5-4608-a507-a0284cd972a0",
   "metadata": {},
   "outputs": [],
   "source": [
    "np_array**2"
   ]
  },
  {
   "attachments": {},
   "cell_type": "markdown",
   "id": "0465811f",
   "metadata": {},
   "source": [
    "## 2.7 Asking questions"
   ]
  },
  {
   "cell_type": "code",
   "execution_count": null,
   "id": "efc4beab-b183-43a2-9cae-66bc0ea35556",
   "metadata": {},
   "outputs": [],
   "source": [
    "py_list = [1, 2, 3, 4, 5]\n",
    "np_array = np.array(py_list)         "
   ]
  },
  {
   "cell_type": "code",
   "execution_count": null,
   "id": "128ef41e-4993-4684-8d2a-50d7878781e9",
   "metadata": {},
   "outputs": [],
   "source": [
    "py_list == 3     # Works, but what IS the question?\n",
    "                 # Ask if a list == 3 ? Which is false"
   ]
  },
  {
   "cell_type": "code",
   "execution_count": null,
   "id": "6928914a-f30c-46d1-8afb-d46886f2b16c",
   "metadata": {},
   "outputs": [],
   "source": [
    "np_array == 3  \n",
    " "
   ]
  },
  {
   "cell_type": "code",
   "execution_count": null,
   "id": "ecfac35f-026c-4cde-9903-6f2a7f6282a1",
   "metadata": {},
   "outputs": [],
   "source": [
    "np_array > 3 "
   ]
  },
  {
   "attachments": {},
   "cell_type": "markdown",
   "id": "0d90d3a9",
   "metadata": {},
   "source": [
    "## 2.8 Mathematics"
   ]
  },
  {
   "cell_type": "code",
   "execution_count": null,
   "id": "eded3719-080c-4681-bf19-734db9f92bc0",
   "metadata": {},
   "outputs": [],
   "source": [
    "py_list = [1, 2, 3, 4, 5]\n",
    "np_array = np.array(py_list)         "
   ]
  },
  {
   "cell_type": "code",
   "execution_count": null,
   "id": "a8efe5f8-62b3-4a48-9c0c-78ea781f1560",
   "metadata": {},
   "outputs": [],
   "source": [
    "print(sum(py_list))     # sum() is a base Python function\n",
    "print(max(py_list))     # max() is a base Python function\n",
    "print(min(py_list))     # min() is a base Python function"
   ]
  },
  {
   "cell_type": "code",
   "execution_count": null,
   "id": "3dc6ffb0-3beb-4b50-8d53-aa55928dc9e6",
   "metadata": {},
   "outputs": [],
   "source": [
    "print(np_array.sum())\n",
    "print(np_array.max())\n",
    "print(np_array.min())\n",
    "print(np_array.mean())\n",
    "print(np_array.std())"
   ]
  },
  {
   "cell_type": "code",
   "execution_count": null,
   "id": "c47a6cc4-ed6b-4ddd-9b7f-795f7c424bce",
   "metadata": {},
   "outputs": [],
   "source": [
    "%timeit sum(np_array)"
   ]
  },
  {
   "cell_type": "code",
   "execution_count": null,
   "id": "5a00f681-7ec8-4048-ad93-54e9657d6abf",
   "metadata": {},
   "outputs": [],
   "source": [
    "%timeit np_array.sum()"
   ]
  },
  {
   "attachments": {},
   "cell_type": "markdown",
   "id": "c6ee2b0e",
   "metadata": {},
   "source": [
    "## Footnotes"
   ]
  },
  {
   "cell_type": "code",
   "execution_count": 88,
   "id": "912ab287-8c54-48a4-9ad8-6c07b094411c",
   "metadata": {},
   "outputs": [],
   "source": [
    "py_list = [[1,1],[2,1],[3,1],[4,1],[5,1]]\n",
    "np_array = np.array(py_list)"
   ]
  },
  {
   "cell_type": "code",
   "execution_count": 95,
   "id": "691b8f7a-e785-43af-80c3-bbdc12a548b0",
   "metadata": {},
   "outputs": [
    {
     "data": {
      "text/plain": [
       "np.int64(20)"
      ]
     },
     "execution_count": 95,
     "metadata": {},
     "output_type": "execute_result"
    }
   ],
   "source": [
    "np.sum(py_list)"
   ]
  },
  {
   "cell_type": "code",
   "execution_count": 89,
   "id": "6bb792f4-43d9-4ccd-bad9-02b27163fa09",
   "metadata": {},
   "outputs": [
    {
     "data": {
      "text/plain": [
       "np.int64(20)"
      ]
     },
     "execution_count": 89,
     "metadata": {},
     "output_type": "execute_result"
    }
   ],
   "source": [
    "np_array.sum()"
   ]
  },
  {
   "cell_type": "code",
   "execution_count": 83,
   "id": "83e61f3e-7a85-4890-9356-ad414f6cc99d",
   "metadata": {},
   "outputs": [
    {
     "data": {
      "text/plain": [
       "array([15,  5])"
      ]
     },
     "execution_count": 83,
     "metadata": {},
     "output_type": "execute_result"
    }
   ],
   "source": [
    "np_array.sum(axis=0) # adds each collumn"
   ]
  },
  {
   "cell_type": "code",
   "execution_count": 82,
   "id": "63a93d8f-1c60-49b0-8ae1-7151c71cec71",
   "metadata": {},
   "outputs": [
    {
     "data": {
      "text/plain": [
       "array([2, 3, 4, 5, 6])"
      ]
     },
     "execution_count": 82,
     "metadata": {},
     "output_type": "execute_result"
    }
   ],
   "source": [
    "np_array.sum(axis=1) # adds each row"
   ]
  },
  {
   "cell_type": "code",
   "execution_count": null,
   "id": "12580529-bc36-41f6-8271-a57b97d6501f",
   "metadata": {},
   "outputs": [],
   "source": []
  }
 ],
 "metadata": {
  "kernelspec": {
   "display_name": "Python 3 (ipykernel)",
   "language": "python",
   "name": "python3"
  },
  "language_info": {
   "codemirror_mode": {
    "name": "ipython",
    "version": 3
   },
   "file_extension": ".py",
   "mimetype": "text/x-python",
   "name": "python",
   "nbconvert_exporter": "python",
   "pygments_lexer": "ipython3",
   "version": "3.12.2"
  },
  "toc": {
   "base_numbering": 1,
   "nav_menu": {},
   "number_sections": true,
   "sideBar": true,
   "skip_h1_title": false,
   "title_cell": "Table of Contents",
   "title_sidebar": "Contents",
   "toc_cell": false,
   "toc_position": {},
   "toc_section_display": true,
   "toc_window_display": false
  },
  "vscode": {
   "interpreter": {
    "hash": "31f2aee4e71d21fbe5cf8b01ff0e069b9275f58929596ceb00d14d90e3e16cd6"
   }
  }
 },
 "nbformat": 4,
 "nbformat_minor": 5
}
