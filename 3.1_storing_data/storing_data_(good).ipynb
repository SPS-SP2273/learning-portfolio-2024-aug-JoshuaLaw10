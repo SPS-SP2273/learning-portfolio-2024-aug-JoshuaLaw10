{
 "cells": [
  {
   "attachments": {},
   "cell_type": "markdown",
   "id": "123456",
   "metadata": {},
   "source": [
    "<div style=\"text-align:left;font-size:2em\"><span style=\"font-weight:bolder;font-size:1.25em\">SP2273 | Learning Portfolio</span><br><br><span style=\"font-weight:bold;color:darkred\">Storing Data (Good)</span></div>"
   ]
  },
  {
   "attachments": {},
   "cell_type": "markdown",
   "id": "6a3e9770",
   "metadata": {},
   "source": [
    "# What to expect in this chapter"
   ]
  },
  {
   "attachments": {},
   "cell_type": "markdown",
   "id": "84ebf2c9",
   "metadata": {},
   "source": [
    "# 1 Subsetting: Indexing and Slicing"
   ]
  },
  {
   "attachments": {},
   "cell_type": "markdown",
   "id": "7085010a",
   "metadata": {},
   "source": [
    "## 1.1 Lists & Arrays in 1D | Subsetting & Indexing"
   ]
  },
  {
   "cell_type": "code",
   "execution_count": 3,
   "id": "67efce9e-d203-46ab-b22e-336d1038278f",
   "metadata": {},
   "outputs": [],
   "source": [
    "import numpy as np\n",
    "py_list=[\"a1\", \"b2\", \"c3\", \"d4\", \"e5\",\n",
    "         \"f6\", \"g7\", \"h8\", \"i9\", \"j10\"]\n",
    "np_array=np.array(py_list)"
   ]
  },
  {
   "cell_type": "code",
   "execution_count": 7,
   "id": "5012376e-c0c6-4bfe-8c3d-0ced2ac63717",
   "metadata": {},
   "outputs": [],
   "source": [
    "# Pick one\n",
    "x = py_list  # OR\n",
    "#x = np_array"
   ]
  },
  {
   "cell_type": "code",
   "execution_count": 50,
   "id": "22c72b35-1cd0-403f-9799-902e890f6786",
   "metadata": {},
   "outputs": [
    {
     "data": {
      "text/plain": [
       "['b2', 'a1']"
      ]
     },
     "execution_count": 50,
     "metadata": {},
     "output_type": "execute_result"
    }
   ],
   "source": [
    "x[1::-1]  # start at 1 and go backwards"
   ]
  },
  {
   "attachments": {},
   "cell_type": "markdown",
   "id": "a8eeedb3",
   "metadata": {},
   "source": [
    "## 1.2 Arrays only | Subsetting by masking"
   ]
  },
  {
   "cell_type": "code",
   "execution_count": 19,
   "id": "80300931-2b00-490a-99c5-18c10904629c",
   "metadata": {},
   "outputs": [
    {
     "data": {
      "text/plain": [
       "array([False, False, False,  True,  True,  True,  True, False, False,\n",
       "       False])"
      ]
     },
     "execution_count": 19,
     "metadata": {},
     "output_type": "execute_result"
    }
   ],
   "source": [
    "np_array = np.array([1, 2, 3, 4, 5, 6, 7, 8, 9, 10])\n",
    "my_mask = (np_array > 3) & (np_array < 8)\n",
    "# for numpy use & not 'and'"
   ]
  },
  {
   "cell_type": "code",
   "execution_count": 23,
   "id": "cf57d719-06b8-45f3-9907-a46851a2ea4f",
   "metadata": {},
   "outputs": [
    {
     "data": {
      "text/plain": [
       "array([4, 5, 6, 7])"
      ]
     },
     "execution_count": 23,
     "metadata": {},
     "output_type": "execute_result"
    }
   ],
   "source": [
    "np_array[3:7]"
   ]
  },
  {
   "cell_type": "code",
   "execution_count": 21,
   "id": "18f9cdb6-b731-4a94-b488-c09152cb3179",
   "metadata": {},
   "outputs": [
    {
     "data": {
      "text/plain": [
       "array([4, 5, 6, 7])"
      ]
     },
     "execution_count": 21,
     "metadata": {},
     "output_type": "execute_result"
    }
   ],
   "source": [
    "np_array[my_mask]    #more intelligent of the above"
   ]
  },
  {
   "cell_type": "code",
   "execution_count": 24,
   "id": "c967e8c2-56af-48df-95f9-399ea8ffeecb",
   "metadata": {},
   "outputs": [
    {
     "data": {
      "text/plain": [
       "np.int64(4)"
      ]
     },
     "execution_count": 24,
     "metadata": {},
     "output_type": "execute_result"
    }
   ],
   "source": [
    "my_mask.sum()"
   ]
  },
  {
   "cell_type": "code",
   "execution_count": 32,
   "id": "117f6b81-4071-4624-b0c8-e339d9baf493",
   "metadata": {},
   "outputs": [
    {
     "data": {
      "text/plain": [
       "array([ 1,  2,  3,  8,  9, 10])"
      ]
     },
     "execution_count": 32,
     "metadata": {},
     "output_type": "execute_result"
    }
   ],
   "source": [
    "my_mask = ~((np_array > 3) & (np_array < 8))               # '~' means 'NOT'\n",
    "np_array[my_mask]"
   ]
  },
  {
   "cell_type": "code",
   "execution_count": 29,
   "id": "61b80885-07f1-4e66-8fd4-acb659f99cc8",
   "metadata": {},
   "outputs": [
    {
     "data": {
      "text/plain": [
       "array([ 1,  2,  3,  8,  9, 10])"
      ]
     },
     "execution_count": 29,
     "metadata": {},
     "output_type": "execute_result"
    }
   ],
   "source": [
    "np_array[~((np_array > 3) & (np_array < 8))]                 # '~' means 'NOT'"
   ]
  },
  {
   "cell_type": "code",
   "execution_count": null,
   "id": "9a6c5c5d-831e-4207-b660-f354ba736c1b",
   "metadata": {},
   "outputs": [],
   "source": [
    "np_array"
   ]
  },
  {
   "attachments": {},
   "cell_type": "markdown",
   "id": "972e8dfe",
   "metadata": {},
   "source": [
    "## 1.3 Lists & Arrays in 2D | Indexing & Slicing"
   ]
  },
  {
   "cell_type": "code",
   "execution_count": 33,
   "id": "c0d8ff55-ee97-4d98-8c34-58dc21ace96d",
   "metadata": {},
   "outputs": [],
   "source": [
    "py_list_2d = [[1, \"A\"], [2, \"B\"], [3, \"C\"], [4, \"D\"],\n",
    "              [5, \"E\"], [6, \"F\"], [7, \"G\"], [8, \"H\"],\n",
    "              [9, \"I\"], [10, \"J\"]]\n",
    "\n",
    "np_array_2d = np.array(py_list_2d)"
   ]
  },
  {
   "cell_type": "code",
   "execution_count": 40,
   "id": "2e34e6d7-be0b-4e09-9f57-d4b57d1f3ce1",
   "metadata": {},
   "outputs": [
    {
     "data": {
      "text/plain": [
       "[4, 'D']"
      ]
     },
     "execution_count": 40,
     "metadata": {},
     "output_type": "execute_result"
    }
   ],
   "source": [
    "py_list_2d[3]"
   ]
  },
  {
   "cell_type": "code",
   "execution_count": 39,
   "id": "0d83a3c5-6c2f-4b2c-b4ce-e28696b3f9fd",
   "metadata": {},
   "outputs": [
    {
     "data": {
      "text/plain": [
       "array(['4', 'D'], dtype='<U21')"
      ]
     },
     "execution_count": 39,
     "metadata": {},
     "output_type": "execute_result"
    }
   ],
   "source": [
    "np_array_2d[3]"
   ]
  },
  {
   "cell_type": "code",
   "execution_count": 42,
   "id": "54a44d36-9f4b-47a5-89e2-b352ef1b4955",
   "metadata": {},
   "outputs": [
    {
     "data": {
      "text/plain": [
       "'D'"
      ]
     },
     "execution_count": 42,
     "metadata": {},
     "output_type": "execute_result"
    }
   ],
   "source": [
    "py_list_2d[3][1]"
   ]
  },
  {
   "cell_type": "code",
   "execution_count": 41,
   "id": "df262eb1-7220-4751-8958-15e514bbc0db",
   "metadata": {},
   "outputs": [
    {
     "data": {
      "text/plain": [
       "np.str_('D')"
      ]
     },
     "execution_count": 41,
     "metadata": {},
     "output_type": "execute_result"
    }
   ],
   "source": [
    "np_array_2d[3,1]   #use coordinates system"
   ]
  },
  {
   "cell_type": "code",
   "execution_count": 43,
   "id": "d573bbb9-2417-4728-b7d2-666faddd7c9e",
   "metadata": {},
   "outputs": [
    {
     "data": {
      "text/plain": [
       "np.str_('D')"
      ]
     },
     "execution_count": 43,
     "metadata": {},
     "output_type": "execute_result"
    }
   ],
   "source": [
    "np_array_2d[3][1]"
   ]
  },
  {
   "cell_type": "code",
   "execution_count": 45,
   "id": "40fbb647-41dd-4798-b052-351e10cf8c0a",
   "metadata": {},
   "outputs": [
    {
     "data": {
      "text/plain": [
       "4"
      ]
     },
     "execution_count": 45,
     "metadata": {},
     "output_type": "execute_result"
    }
   ],
   "source": [
    "list_3d = [[[1,1],[2,2]],[[3,3],[4,4]],[[5,5],[6,6]]] #3d list\n",
    "list_3d[1][1][1]"
   ]
  },
  {
   "attachments": {},
   "cell_type": "markdown",
   "id": "5a5cdd0b",
   "metadata": {},
   "source": [
    "## 1.4 Growing lists"
   ]
  },
  {
   "cell_type": "code",
   "execution_count": 1,
   "id": "a8b4317e-ad4b-4d41-bf09-c489b32d6e1c",
   "metadata": {},
   "outputs": [
    {
     "data": {
      "text/plain": [
       "[1, 2, 1, 2, 1, 2, 1, 2, 1, 2]"
      ]
     },
     "execution_count": 1,
     "metadata": {},
     "output_type": "execute_result"
    }
   ],
   "source": [
    "x=[1, 2]*5\n",
    "x"
   ]
  },
  {
   "cell_type": "code",
   "execution_count": 2,
   "id": "34d4768d-5f18-40f0-acf4-37cc241164af",
   "metadata": {},
   "outputs": [
    {
     "data": {
      "text/plain": [
       "[1, 2, 3, 4]"
      ]
     },
     "execution_count": 2,
     "metadata": {},
     "output_type": "execute_result"
    }
   ],
   "source": [
    "x=[1]\n",
    "x= x + [2]\n",
    "x= x + [3]\n",
    "x= x + [4]\n",
    "x\n"
   ]
  },
  {
   "cell_type": "code",
   "execution_count": 3,
   "id": "ac8a4dd5-b100-420a-8099-789babb7a4d8",
   "metadata": {},
   "outputs": [
    {
     "data": {
      "text/plain": [
       "[1, 2, 3, 4]"
      ]
     },
     "execution_count": 3,
     "metadata": {},
     "output_type": "execute_result"
    }
   ],
   "source": [
    "x=[1]\n",
    "x+= [2]\n",
    "x+= [3]\n",
    "x+= [4]\n",
    "x\n"
   ]
  },
  {
   "cell_type": "code",
   "execution_count": 4,
   "id": "adfda9e9-60b2-4f47-98fa-72da3ff83973",
   "metadata": {},
   "outputs": [
    {
     "data": {
      "text/plain": [
       "[1, 2, 3, 4]"
      ]
     },
     "execution_count": 4,
     "metadata": {},
     "output_type": "execute_result"
    }
   ],
   "source": [
    "x=[1]\n",
    "x.append(2)\n",
    "x.append(3)\n",
    "x.append(4)\n",
    "x"
   ]
  },
  {
   "cell_type": "code",
   "execution_count": 8,
   "id": "dc10f6e9-94ce-46f8-8da4-c63eb6e27947",
   "metadata": {},
   "outputs": [
    {
     "data": {
      "text/plain": [
       "[1, 2, 3, 1, 2, 3]"
      ]
     },
     "execution_count": 8,
     "metadata": {},
     "output_type": "execute_result"
    }
   ],
   "source": [
    "x = [1,2,3]\n",
    "x.extend([1,2,3])\n",
    "x"
   ]
  },
  {
   "cell_type": "code",
   "execution_count": 12,
   "id": "6ed49282-4d12-4930-b1a8-52bacacf62dc",
   "metadata": {},
   "outputs": [
    {
     "data": {
      "text/plain": [
       "[1, 2, 3, [4, 5, 6]]"
      ]
     },
     "execution_count": 12,
     "metadata": {},
     "output_type": "execute_result"
    }
   ],
   "source": [
    "x = [1,2,3]\n",
    "x.append([4,5,6])\n",
    "x\n"
   ]
  },
  {
   "cell_type": "code",
   "execution_count": 14,
   "id": "7a178c62-5bdb-483d-ba9a-bcd93eab75d3",
   "metadata": {},
   "outputs": [
    {
     "data": {
      "text/plain": [
       "[1, '0', 2, 3]"
      ]
     },
     "execution_count": 14,
     "metadata": {},
     "output_type": "execute_result"
    }
   ],
   "source": [
    "x = [1,2,3]\n",
    "x.insert(1,'0')\n",
    "x"
   ]
  },
  {
   "attachments": {},
   "cell_type": "markdown",
   "id": "345b2259",
   "metadata": {},
   "source": [
    "# Some loose ends"
   ]
  },
  {
   "attachments": {},
   "cell_type": "markdown",
   "id": "5fa981b0",
   "metadata": {},
   "source": [
    "## 1.5 Tuples"
   ]
  },
  {
   "cell_type": "code",
   "execution_count": 23,
   "id": "4e3b55ee-cd3d-4889-b4b2-12a5161166ca",
   "metadata": {},
   "outputs": [
    {
     "data": {
      "text/plain": [
       "[1234, 2, 3]"
      ]
     },
     "execution_count": 23,
     "metadata": {},
     "output_type": "execute_result"
    }
   ],
   "source": [
    "a = [1,2,3]\n",
    "a[0] = 1234\n",
    "a"
   ]
  },
  {
   "cell_type": "code",
   "execution_count": null,
   "id": "d0f0dc25-9323-4609-bd88-5254abe79e4b",
   "metadata": {},
   "outputs": [],
   "source": [
    "a = (1,2,3)"
   ]
  },
  {
   "attachments": {},
   "cell_type": "markdown",
   "id": "9617d695",
   "metadata": {},
   "source": [
    "## 1.6 Be VERY careful when copying"
   ]
  },
  {
   "cell_type": "code",
   "execution_count": 25,
   "id": "571efc35-e87f-42f9-9617-08062bf1d05d",
   "metadata": {},
   "outputs": [],
   "source": [
    "x=[1, 2, 3]\n",
    "y=x           # DON'T do this!    use y = x.copy()    instead\n",
    "z=x           # DON'T do this!\n",
    "\n",
    "# now x,y,z looks at the same list so when the list changes, all changes"
   ]
  },
  {
   "cell_type": "code",
   "execution_count": 28,
   "id": "81110b1a-d4a0-4612-95ef-f86571b09fb4",
   "metadata": {},
   "outputs": [],
   "source": [
    "y[0] =1234"
   ]
  },
  {
   "cell_type": "code",
   "execution_count": 29,
   "id": "8451c60b-3447-4154-bcae-9439a35cd83d",
   "metadata": {},
   "outputs": [
    {
     "name": "stdout",
     "output_type": "stream",
     "text": [
      "x=[1234, 2, 3],y=[1234, 2, 3],z=[1234, 2, 3]\n"
     ]
    }
   ],
   "source": [
    "print(f'{x=},{y=},{z=}')"
   ]
  },
  {
   "attachments": {},
   "cell_type": "markdown",
   "id": "2a3af76e",
   "metadata": {},
   "source": [
    "## Footnotes"
   ]
  }
 ],
 "metadata": {
  "kernelspec": {
   "display_name": "Python 3 (ipykernel)",
   "language": "python",
   "name": "python3"
  },
  "language_info": {
   "codemirror_mode": {
    "name": "ipython",
    "version": 3
   },
   "file_extension": ".py",
   "mimetype": "text/x-python",
   "name": "python",
   "nbconvert_exporter": "python",
   "pygments_lexer": "ipython3",
   "version": "3.12.2"
  },
  "toc": {
   "base_numbering": 1,
   "nav_menu": {},
   "number_sections": true,
   "sideBar": true,
   "skip_h1_title": false,
   "title_cell": "Table of Contents",
   "title_sidebar": "Contents",
   "toc_cell": false,
   "toc_position": {},
   "toc_section_display": true,
   "toc_window_display": false
  },
  "vscode": {
   "interpreter": {
    "hash": "31f2aee4e71d21fbe5cf8b01ff0e069b9275f58929596ceb00d14d90e3e16cd6"
   }
  }
 },
 "nbformat": 4,
 "nbformat_minor": 5
}
